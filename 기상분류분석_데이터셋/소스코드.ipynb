{
 "cells": [
  {
   "cell_type": "markdown",
   "id": "92cbdf5e",
   "metadata": {},
   "source": [
    "### 컴퓨터정보통신공학과 B789029 성정현"
   ]
  },
  {
   "cell_type": "markdown",
   "id": "4f75cc60",
   "metadata": {},
   "source": [
    "### 기상 분류 분석 프로젝트"
   ]
  },
  {
   "cell_type": "markdown",
   "id": "a33eada6",
   "metadata": {},
   "source": [
    "## 데이터 불러오기"
   ]
  },
  {
   "cell_type": "code",
   "execution_count": 1,
   "id": "2047a55c",
   "metadata": {
    "scrolled": false
   },
   "outputs": [
    {
     "data": {
      "text/html": [
       "<div>\n",
       "<style scoped>\n",
       "    .dataframe tbody tr th:only-of-type {\n",
       "        vertical-align: middle;\n",
       "    }\n",
       "\n",
       "    .dataframe tbody tr th {\n",
       "        vertical-align: top;\n",
       "    }\n",
       "\n",
       "    .dataframe thead th {\n",
       "        text-align: right;\n",
       "    }\n",
       "</style>\n",
       "<table border=\"1\" class=\"dataframe\">\n",
       "  <thead>\n",
       "    <tr style=\"text-align: right;\">\n",
       "      <th></th>\n",
       "      <th>\\t\\t지점번호</th>\n",
       "      <th>지점명</th>\n",
       "      <th>일시</th>\n",
       "      <th>평균기온(℃)</th>\n",
       "      <th>최고기온(℃)</th>\n",
       "      <th>\\t최고기온시각</th>\n",
       "      <th>최저기온(℃)</th>\n",
       "      <th>최저기온시각</th>\n",
       "      <th>일교차</th>\n",
       "    </tr>\n",
       "  </thead>\n",
       "  <tbody>\n",
       "    <tr>\n",
       "      <th>0</th>\n",
       "      <td>\\t\\t108</td>\n",
       "      <td>서울</td>\n",
       "      <td>2016-01-01</td>\n",
       "      <td>1.2</td>\n",
       "      <td>4.0</td>\n",
       "      <td>14:42</td>\n",
       "      <td>-3.3</td>\n",
       "      <td>4:56</td>\n",
       "      <td>7.3</td>\n",
       "    </tr>\n",
       "    <tr>\n",
       "      <th>1</th>\n",
       "      <td>\\t\\t108</td>\n",
       "      <td>서울</td>\n",
       "      <td>2016-01-02</td>\n",
       "      <td>5.7</td>\n",
       "      <td>9.5</td>\n",
       "      <td>15:14</td>\n",
       "      <td>1.0</td>\n",
       "      <td>7:44</td>\n",
       "      <td>8.5</td>\n",
       "    </tr>\n",
       "    <tr>\n",
       "      <th>2</th>\n",
       "      <td>\\t\\t108</td>\n",
       "      <td>서울</td>\n",
       "      <td>2016-01-03</td>\n",
       "      <td>6.5</td>\n",
       "      <td>9.4</td>\n",
       "      <td>15:06</td>\n",
       "      <td>5.1</td>\n",
       "      <td>23:59</td>\n",
       "      <td>4.3</td>\n",
       "    </tr>\n",
       "    <tr>\n",
       "      <th>3</th>\n",
       "      <td>\\t\\t108</td>\n",
       "      <td>서울</td>\n",
       "      <td>2016-01-04</td>\n",
       "      <td>2.0</td>\n",
       "      <td>5.3</td>\n",
       "      <td>13:13</td>\n",
       "      <td>-2.5</td>\n",
       "      <td>23:50</td>\n",
       "      <td>7.8</td>\n",
       "    </tr>\n",
       "    <tr>\n",
       "      <th>4</th>\n",
       "      <td>\\t\\t108</td>\n",
       "      <td>서울</td>\n",
       "      <td>2016-01-05</td>\n",
       "      <td>-2.7</td>\n",
       "      <td>1.5</td>\n",
       "      <td>15:12</td>\n",
       "      <td>-4.8</td>\n",
       "      <td>8:44</td>\n",
       "      <td>6.3</td>\n",
       "    </tr>\n",
       "  </tbody>\n",
       "</table>\n",
       "</div>"
      ],
      "text/plain": [
       "  \\t\\t지점번호 지점명          일시  평균기온(℃)  최고기온(℃) \\t최고기온시각  최저기온(℃) 최저기온시각  일교차\n",
       "0  \\t\\t108  서울  2016-01-01      1.2      4.0    14:42     -3.3   4:56  7.3\n",
       "1  \\t\\t108  서울  2016-01-02      5.7      9.5    15:14      1.0   7:44  8.5\n",
       "2  \\t\\t108  서울  2016-01-03      6.5      9.4    15:06      5.1  23:59  4.3\n",
       "3  \\t\\t108  서울  2016-01-04      2.0      5.3    13:13     -2.5  23:50  7.8\n",
       "4  \\t\\t108  서울  2016-01-05     -2.7      1.5    15:12     -4.8   8:44  6.3"
      ]
     },
     "execution_count": 1,
     "metadata": {},
     "output_type": "execute_result"
    }
   ],
   "source": [
    "import warnings\n",
    "warnings.filterwarnings(\"ignore\")\n",
    "\n",
    "import pandas as pd\n",
    "\n",
    "temperature = pd.read_csv(\"기온.csv\", encoding=\"cp949\")\n",
    "temperature.head()"
   ]
  },
  {
   "cell_type": "code",
   "execution_count": 2,
   "id": "bc91ffca",
   "metadata": {},
   "outputs": [
    {
     "data": {
      "text/html": [
       "<div>\n",
       "<style scoped>\n",
       "    .dataframe tbody tr th:only-of-type {\n",
       "        vertical-align: middle;\n",
       "    }\n",
       "\n",
       "    .dataframe tbody tr th {\n",
       "        vertical-align: top;\n",
       "    }\n",
       "\n",
       "    .dataframe thead th {\n",
       "        text-align: right;\n",
       "    }\n",
       "</style>\n",
       "<table border=\"1\" class=\"dataframe\">\n",
       "  <thead>\n",
       "    <tr style=\"text-align: right;\">\n",
       "      <th></th>\n",
       "      <th>\\t지점번호</th>\n",
       "      <th>지점명</th>\n",
       "      <th>일시</th>\n",
       "      <th>강수량(mm)</th>\n",
       "      <th>1시간최다강수량(mm)</th>\n",
       "      <th>1시간최다강수량시각</th>\n",
       "    </tr>\n",
       "  </thead>\n",
       "  <tbody>\n",
       "    <tr>\n",
       "      <th>0</th>\n",
       "      <td>\\t108</td>\n",
       "      <td>서울</td>\n",
       "      <td>2016-01-01</td>\n",
       "      <td>NaN</td>\n",
       "      <td>NaN</td>\n",
       "      <td>NaN</td>\n",
       "    </tr>\n",
       "    <tr>\n",
       "      <th>1</th>\n",
       "      <td>\\t108</td>\n",
       "      <td>서울</td>\n",
       "      <td>2016-01-02</td>\n",
       "      <td>NaN</td>\n",
       "      <td>NaN</td>\n",
       "      <td>NaN</td>\n",
       "    </tr>\n",
       "    <tr>\n",
       "      <th>2</th>\n",
       "      <td>\\t108</td>\n",
       "      <td>서울</td>\n",
       "      <td>2016-01-03</td>\n",
       "      <td>NaN</td>\n",
       "      <td>NaN</td>\n",
       "      <td>NaN</td>\n",
       "    </tr>\n",
       "    <tr>\n",
       "      <th>3</th>\n",
       "      <td>\\t108</td>\n",
       "      <td>서울</td>\n",
       "      <td>2016-01-04</td>\n",
       "      <td>NaN</td>\n",
       "      <td>NaN</td>\n",
       "      <td>NaN</td>\n",
       "    </tr>\n",
       "    <tr>\n",
       "      <th>4</th>\n",
       "      <td>\\t108</td>\n",
       "      <td>서울</td>\n",
       "      <td>2016-01-05</td>\n",
       "      <td>NaN</td>\n",
       "      <td>NaN</td>\n",
       "      <td>NaN</td>\n",
       "    </tr>\n",
       "  </tbody>\n",
       "</table>\n",
       "</div>"
      ],
      "text/plain": [
       "  \\t지점번호 지점명          일시  강수량(mm)  1시간최다강수량(mm) 1시간최다강수량시각\n",
       "0  \\t108  서울  2016-01-01      NaN           NaN        NaN\n",
       "1  \\t108  서울  2016-01-02      NaN           NaN        NaN\n",
       "2  \\t108  서울  2016-01-03      NaN           NaN        NaN\n",
       "3  \\t108  서울  2016-01-04      NaN           NaN        NaN\n",
       "4  \\t108  서울  2016-01-05      NaN           NaN        NaN"
      ]
     },
     "execution_count": 2,
     "metadata": {},
     "output_type": "execute_result"
    }
   ],
   "source": [
    "rainfall = pd.read_csv(\"강수량.csv\", encoding=\"cp949\")\n",
    "rainfall.head()"
   ]
  },
  {
   "cell_type": "code",
   "execution_count": 3,
   "id": "78e71428",
   "metadata": {},
   "outputs": [
    {
     "data": {
      "text/html": [
       "<div>\n",
       "<style scoped>\n",
       "    .dataframe tbody tr th:only-of-type {\n",
       "        vertical-align: middle;\n",
       "    }\n",
       "\n",
       "    .dataframe tbody tr th {\n",
       "        vertical-align: top;\n",
       "    }\n",
       "\n",
       "    .dataframe thead th {\n",
       "        text-align: right;\n",
       "    }\n",
       "</style>\n",
       "<table border=\"1\" class=\"dataframe\">\n",
       "  <thead>\n",
       "    <tr style=\"text-align: right;\">\n",
       "      <th></th>\n",
       "      <th>\\t\\t지점번호</th>\n",
       "      <th>지점명</th>\n",
       "      <th>일시</th>\n",
       "      <th>평균풍속(m/s)</th>\n",
       "      <th>최대풍속(m/s)</th>\n",
       "      <th>최대풍속풍향(deg)</th>\n",
       "      <th>\\t최대풍속시각</th>\n",
       "      <th>최대순간풍속(m/s)</th>\n",
       "      <th>최대순간풍속풍향(deg)</th>\n",
       "      <th>\\t최대순간풍속시각</th>\n",
       "    </tr>\n",
       "  </thead>\n",
       "  <tbody>\n",
       "    <tr>\n",
       "      <th>0</th>\n",
       "      <td>\\t\\t108</td>\n",
       "      <td>서울</td>\n",
       "      <td>2016-01-01</td>\n",
       "      <td>1.6</td>\n",
       "      <td>3.5</td>\n",
       "      <td>270.0</td>\n",
       "      <td>15:17</td>\n",
       "      <td>5.6</td>\n",
       "      <td>290.0</td>\n",
       "      <td>16:07</td>\n",
       "    </tr>\n",
       "    <tr>\n",
       "      <th>1</th>\n",
       "      <td>\\t\\t108</td>\n",
       "      <td>서울</td>\n",
       "      <td>2016-01-02</td>\n",
       "      <td>2.0</td>\n",
       "      <td>4.5</td>\n",
       "      <td>320.0</td>\n",
       "      <td>15:50</td>\n",
       "      <td>6.9</td>\n",
       "      <td>320.0</td>\n",
       "      <td>15:12</td>\n",
       "    </tr>\n",
       "    <tr>\n",
       "      <th>2</th>\n",
       "      <td>\\t\\t108</td>\n",
       "      <td>서울</td>\n",
       "      <td>2016-01-03</td>\n",
       "      <td>1.8</td>\n",
       "      <td>4.0</td>\n",
       "      <td>320.0</td>\n",
       "      <td>12:58</td>\n",
       "      <td>5.7</td>\n",
       "      <td>340.0</td>\n",
       "      <td>23:38</td>\n",
       "    </tr>\n",
       "    <tr>\n",
       "      <th>3</th>\n",
       "      <td>\\t\\t108</td>\n",
       "      <td>서울</td>\n",
       "      <td>2016-01-04</td>\n",
       "      <td>3.1</td>\n",
       "      <td>5.1</td>\n",
       "      <td>50.0</td>\n",
       "      <td>13:38</td>\n",
       "      <td>8.6</td>\n",
       "      <td>320.0</td>\n",
       "      <td>12:52</td>\n",
       "    </tr>\n",
       "    <tr>\n",
       "      <th>4</th>\n",
       "      <td>\\t\\t108</td>\n",
       "      <td>서울</td>\n",
       "      <td>2016-01-05</td>\n",
       "      <td>2.3</td>\n",
       "      <td>4.6</td>\n",
       "      <td>360.0</td>\n",
       "      <td>12:21</td>\n",
       "      <td>7.3</td>\n",
       "      <td>360.0</td>\n",
       "      <td>12:19</td>\n",
       "    </tr>\n",
       "  </tbody>\n",
       "</table>\n",
       "</div>"
      ],
      "text/plain": [
       "  \\t\\t지점번호 지점명          일시  평균풍속(m/s)  최대풍속(m/s)  최대풍속풍향(deg) \\t최대풍속시각  \\\n",
       "0  \\t\\t108  서울  2016-01-01        1.6        3.5        270.0    15:17   \n",
       "1  \\t\\t108  서울  2016-01-02        2.0        4.5        320.0    15:50   \n",
       "2  \\t\\t108  서울  2016-01-03        1.8        4.0        320.0    12:58   \n",
       "3  \\t\\t108  서울  2016-01-04        3.1        5.1         50.0    13:38   \n",
       "4  \\t\\t108  서울  2016-01-05        2.3        4.6        360.0    12:21   \n",
       "\n",
       "   최대순간풍속(m/s)  최대순간풍속풍향(deg) \\t최대순간풍속시각  \n",
       "0          5.6          290.0      16:07  \n",
       "1          6.9          320.0      15:12  \n",
       "2          5.7          340.0      23:38  \n",
       "3          8.6          320.0      12:52  \n",
       "4          7.3          360.0      12:19  "
      ]
     },
     "execution_count": 3,
     "metadata": {},
     "output_type": "execute_result"
    }
   ],
   "source": [
    "wind = pd.read_csv(\"바람.csv\", encoding=\"cp949\")\n",
    "wind.head()"
   ]
  },
  {
   "cell_type": "code",
   "execution_count": 4,
   "id": "1e44650e",
   "metadata": {},
   "outputs": [
    {
     "data": {
      "text/html": [
       "<div>\n",
       "<style scoped>\n",
       "    .dataframe tbody tr th:only-of-type {\n",
       "        vertical-align: middle;\n",
       "    }\n",
       "\n",
       "    .dataframe tbody tr th {\n",
       "        vertical-align: top;\n",
       "    }\n",
       "\n",
       "    .dataframe thead th {\n",
       "        text-align: right;\n",
       "    }\n",
       "</style>\n",
       "<table border=\"1\" class=\"dataframe\">\n",
       "  <thead>\n",
       "    <tr style=\"text-align: right;\">\n",
       "      <th></th>\n",
       "      <th>\\t\\t지점번호</th>\n",
       "      <th>지점명</th>\n",
       "      <th>일시</th>\n",
       "      <th>평균습도(%rh)</th>\n",
       "      <th>최저습도(%rh)</th>\n",
       "    </tr>\n",
       "  </thead>\n",
       "  <tbody>\n",
       "    <tr>\n",
       "      <th>0</th>\n",
       "      <td>\\t\\t108</td>\n",
       "      <td>서울</td>\n",
       "      <td>2016-01-01</td>\n",
       "      <td>73.0</td>\n",
       "      <td>56.0</td>\n",
       "    </tr>\n",
       "    <tr>\n",
       "      <th>1</th>\n",
       "      <td>\\t\\t108</td>\n",
       "      <td>서울</td>\n",
       "      <td>2016-01-02</td>\n",
       "      <td>76.9</td>\n",
       "      <td>62.0</td>\n",
       "    </tr>\n",
       "    <tr>\n",
       "      <th>2</th>\n",
       "      <td>\\t\\t108</td>\n",
       "      <td>서울</td>\n",
       "      <td>2016-01-03</td>\n",
       "      <td>80.6</td>\n",
       "      <td>61.0</td>\n",
       "    </tr>\n",
       "    <tr>\n",
       "      <th>3</th>\n",
       "      <td>\\t\\t108</td>\n",
       "      <td>서울</td>\n",
       "      <td>2016-01-04</td>\n",
       "      <td>54.4</td>\n",
       "      <td>28.0</td>\n",
       "    </tr>\n",
       "    <tr>\n",
       "      <th>4</th>\n",
       "      <td>\\t\\t108</td>\n",
       "      <td>서울</td>\n",
       "      <td>2016-01-05</td>\n",
       "      <td>39.4</td>\n",
       "      <td>22.0</td>\n",
       "    </tr>\n",
       "  </tbody>\n",
       "</table>\n",
       "</div>"
      ],
      "text/plain": [
       "  \\t\\t지점번호 지점명          일시  평균습도(%rh)  최저습도(%rh)\n",
       "0  \\t\\t108  서울  2016-01-01       73.0       56.0\n",
       "1  \\t\\t108  서울  2016-01-02       76.9       62.0\n",
       "2  \\t\\t108  서울  2016-01-03       80.6       61.0\n",
       "3  \\t\\t108  서울  2016-01-04       54.4       28.0\n",
       "4  \\t\\t108  서울  2016-01-05       39.4       22.0"
      ]
     },
     "execution_count": 4,
     "metadata": {},
     "output_type": "execute_result"
    }
   ],
   "source": [
    "humidity = pd.read_csv(\"습도.csv\", encoding=\"cp949\")\n",
    "humidity.head()"
   ]
  },
  {
   "cell_type": "code",
   "execution_count": 5,
   "id": "cf987703",
   "metadata": {},
   "outputs": [
    {
     "data": {
      "text/html": [
       "<div>\n",
       "<style scoped>\n",
       "    .dataframe tbody tr th:only-of-type {\n",
       "        vertical-align: middle;\n",
       "    }\n",
       "\n",
       "    .dataframe tbody tr th {\n",
       "        vertical-align: top;\n",
       "    }\n",
       "\n",
       "    .dataframe thead th {\n",
       "        text-align: right;\n",
       "    }\n",
       "</style>\n",
       "<table border=\"1\" class=\"dataframe\">\n",
       "  <thead>\n",
       "    <tr style=\"text-align: right;\">\n",
       "      <th></th>\n",
       "      <th>\\t\\t지점번호</th>\n",
       "      <th>지점명</th>\n",
       "      <th>일시</th>\n",
       "      <th>일조합</th>\n",
       "      <th>일조율</th>\n",
       "      <th>일사합</th>\n",
       "    </tr>\n",
       "  </thead>\n",
       "  <tbody>\n",
       "    <tr>\n",
       "      <th>0</th>\n",
       "      <td>\\t\\t108</td>\n",
       "      <td>서울</td>\n",
       "      <td>2016-01-01</td>\n",
       "      <td>2.1</td>\n",
       "      <td>21.9</td>\n",
       "      <td>4.61</td>\n",
       "    </tr>\n",
       "    <tr>\n",
       "      <th>1</th>\n",
       "      <td>\\t\\t108</td>\n",
       "      <td>서울</td>\n",
       "      <td>2016-01-02</td>\n",
       "      <td>3.6</td>\n",
       "      <td>37.5</td>\n",
       "      <td>4.50</td>\n",
       "    </tr>\n",
       "    <tr>\n",
       "      <th>2</th>\n",
       "      <td>\\t\\t108</td>\n",
       "      <td>서울</td>\n",
       "      <td>2016-01-03</td>\n",
       "      <td>2.2</td>\n",
       "      <td>22.7</td>\n",
       "      <td>4.85</td>\n",
       "    </tr>\n",
       "    <tr>\n",
       "      <th>3</th>\n",
       "      <td>\\t\\t108</td>\n",
       "      <td>서울</td>\n",
       "      <td>2016-01-04</td>\n",
       "      <td>8.6</td>\n",
       "      <td>88.7</td>\n",
       "      <td>9.03</td>\n",
       "    </tr>\n",
       "    <tr>\n",
       "      <th>4</th>\n",
       "      <td>\\t\\t108</td>\n",
       "      <td>서울</td>\n",
       "      <td>2016-01-05</td>\n",
       "      <td>7.9</td>\n",
       "      <td>81.4</td>\n",
       "      <td>8.22</td>\n",
       "    </tr>\n",
       "  </tbody>\n",
       "</table>\n",
       "</div>"
      ],
      "text/plain": [
       "  \\t\\t지점번호 지점명          일시  일조합   일조율   일사합\n",
       "0  \\t\\t108  서울  2016-01-01  2.1  21.9  4.61\n",
       "1  \\t\\t108  서울  2016-01-02  3.6  37.5  4.50\n",
       "2  \\t\\t108  서울  2016-01-03  2.2  22.7  4.85\n",
       "3  \\t\\t108  서울  2016-01-04  8.6  88.7  9.03\n",
       "4  \\t\\t108  서울  2016-01-05  7.9  81.4  8.22"
      ]
     },
     "execution_count": 5,
     "metadata": {},
     "output_type": "execute_result"
    }
   ],
   "source": [
    "sunshine = pd.read_csv(\"일조일사.csv\", encoding=\"cp949\")\n",
    "sunshine.head()"
   ]
  },
  {
   "cell_type": "markdown",
   "id": "401769a5",
   "metadata": {},
   "source": [
    "## 필요없는 칼럼 우선 제거\n",
    "지점번호와 지점명은 필요없음"
   ]
  },
  {
   "cell_type": "code",
   "execution_count": 6,
   "id": "7d96bcad",
   "metadata": {},
   "outputs": [],
   "source": [
    "temperature = temperature.drop([temperature.columns[0], temperature.columns[1]], axis=1)\n",
    "rainfall = rainfall.drop([rainfall.columns[0], rainfall.columns[1]], axis=1)\n",
    "wind = wind.drop([wind.columns[0], wind.columns[1]], axis=1)\n",
    "humidity = humidity.drop([humidity.columns[0], humidity.columns[1]], axis=1)\n",
    "sunshine = sunshine.drop([sunshine.columns[0], sunshine.columns[1]], axis=1)"
   ]
  },
  {
   "cell_type": "code",
   "execution_count": 7,
   "id": "bfbe9201",
   "metadata": {
    "scrolled": false
   },
   "outputs": [
    {
     "data": {
      "text/html": [
       "<div>\n",
       "<style scoped>\n",
       "    .dataframe tbody tr th:only-of-type {\n",
       "        vertical-align: middle;\n",
       "    }\n",
       "\n",
       "    .dataframe tbody tr th {\n",
       "        vertical-align: top;\n",
       "    }\n",
       "\n",
       "    .dataframe thead th {\n",
       "        text-align: right;\n",
       "    }\n",
       "</style>\n",
       "<table border=\"1\" class=\"dataframe\">\n",
       "  <thead>\n",
       "    <tr style=\"text-align: right;\">\n",
       "      <th></th>\n",
       "      <th>일시</th>\n",
       "      <th>평균기온(℃)</th>\n",
       "      <th>최고기온(℃)</th>\n",
       "      <th>\\t최고기온시각</th>\n",
       "      <th>최저기온(℃)</th>\n",
       "      <th>최저기온시각</th>\n",
       "      <th>일교차</th>\n",
       "    </tr>\n",
       "  </thead>\n",
       "  <tbody>\n",
       "    <tr>\n",
       "      <th>0</th>\n",
       "      <td>2016-01-01</td>\n",
       "      <td>1.2</td>\n",
       "      <td>4.0</td>\n",
       "      <td>14:42</td>\n",
       "      <td>-3.3</td>\n",
       "      <td>4:56</td>\n",
       "      <td>7.3</td>\n",
       "    </tr>\n",
       "    <tr>\n",
       "      <th>1</th>\n",
       "      <td>2016-01-02</td>\n",
       "      <td>5.7</td>\n",
       "      <td>9.5</td>\n",
       "      <td>15:14</td>\n",
       "      <td>1.0</td>\n",
       "      <td>7:44</td>\n",
       "      <td>8.5</td>\n",
       "    </tr>\n",
       "    <tr>\n",
       "      <th>2</th>\n",
       "      <td>2016-01-03</td>\n",
       "      <td>6.5</td>\n",
       "      <td>9.4</td>\n",
       "      <td>15:06</td>\n",
       "      <td>5.1</td>\n",
       "      <td>23:59</td>\n",
       "      <td>4.3</td>\n",
       "    </tr>\n",
       "    <tr>\n",
       "      <th>3</th>\n",
       "      <td>2016-01-04</td>\n",
       "      <td>2.0</td>\n",
       "      <td>5.3</td>\n",
       "      <td>13:13</td>\n",
       "      <td>-2.5</td>\n",
       "      <td>23:50</td>\n",
       "      <td>7.8</td>\n",
       "    </tr>\n",
       "    <tr>\n",
       "      <th>4</th>\n",
       "      <td>2016-01-05</td>\n",
       "      <td>-2.7</td>\n",
       "      <td>1.5</td>\n",
       "      <td>15:12</td>\n",
       "      <td>-4.8</td>\n",
       "      <td>8:44</td>\n",
       "      <td>6.3</td>\n",
       "    </tr>\n",
       "  </tbody>\n",
       "</table>\n",
       "</div>"
      ],
      "text/plain": [
       "           일시  평균기온(℃)  최고기온(℃) \\t최고기온시각  최저기온(℃) 최저기온시각  일교차\n",
       "0  2016-01-01      1.2      4.0    14:42     -3.3   4:56  7.3\n",
       "1  2016-01-02      5.7      9.5    15:14      1.0   7:44  8.5\n",
       "2  2016-01-03      6.5      9.4    15:06      5.1  23:59  4.3\n",
       "3  2016-01-04      2.0      5.3    13:13     -2.5  23:50  7.8\n",
       "4  2016-01-05     -2.7      1.5    15:12     -4.8   8:44  6.3"
      ]
     },
     "execution_count": 7,
     "metadata": {},
     "output_type": "execute_result"
    }
   ],
   "source": [
    "temperature.head()"
   ]
  },
  {
   "cell_type": "markdown",
   "id": "ec2840f1",
   "metadata": {},
   "source": [
    "## 칼럼명 변경\n",
    "공백이 들어간 칼럼명 정리"
   ]
  },
  {
   "cell_type": "code",
   "execution_count": 8,
   "id": "4e66470a",
   "metadata": {},
   "outputs": [],
   "source": [
    "temperature.rename(columns = {\"\\t최고기온시각\": \"최고기온시각\"}, inplace=True)\n",
    "wind.rename(columns = {\"\\t최대풍속시각\":\"최대풍속시각\", \"\\t최대순간풍속시각\": \"최대순간풍속시각\"}, inplace=True)"
   ]
  },
  {
   "cell_type": "code",
   "execution_count": 9,
   "id": "4beb74f0",
   "metadata": {},
   "outputs": [
    {
     "data": {
      "text/html": [
       "<div>\n",
       "<style scoped>\n",
       "    .dataframe tbody tr th:only-of-type {\n",
       "        vertical-align: middle;\n",
       "    }\n",
       "\n",
       "    .dataframe tbody tr th {\n",
       "        vertical-align: top;\n",
       "    }\n",
       "\n",
       "    .dataframe thead th {\n",
       "        text-align: right;\n",
       "    }\n",
       "</style>\n",
       "<table border=\"1\" class=\"dataframe\">\n",
       "  <thead>\n",
       "    <tr style=\"text-align: right;\">\n",
       "      <th></th>\n",
       "      <th>일시</th>\n",
       "      <th>평균기온(℃)</th>\n",
       "      <th>최고기온(℃)</th>\n",
       "      <th>최고기온시각</th>\n",
       "      <th>최저기온(℃)</th>\n",
       "      <th>최저기온시각</th>\n",
       "      <th>일교차</th>\n",
       "    </tr>\n",
       "  </thead>\n",
       "  <tbody>\n",
       "    <tr>\n",
       "      <th>0</th>\n",
       "      <td>2016-01-01</td>\n",
       "      <td>1.2</td>\n",
       "      <td>4.0</td>\n",
       "      <td>14:42</td>\n",
       "      <td>-3.3</td>\n",
       "      <td>4:56</td>\n",
       "      <td>7.3</td>\n",
       "    </tr>\n",
       "    <tr>\n",
       "      <th>1</th>\n",
       "      <td>2016-01-02</td>\n",
       "      <td>5.7</td>\n",
       "      <td>9.5</td>\n",
       "      <td>15:14</td>\n",
       "      <td>1.0</td>\n",
       "      <td>7:44</td>\n",
       "      <td>8.5</td>\n",
       "    </tr>\n",
       "    <tr>\n",
       "      <th>2</th>\n",
       "      <td>2016-01-03</td>\n",
       "      <td>6.5</td>\n",
       "      <td>9.4</td>\n",
       "      <td>15:06</td>\n",
       "      <td>5.1</td>\n",
       "      <td>23:59</td>\n",
       "      <td>4.3</td>\n",
       "    </tr>\n",
       "    <tr>\n",
       "      <th>3</th>\n",
       "      <td>2016-01-04</td>\n",
       "      <td>2.0</td>\n",
       "      <td>5.3</td>\n",
       "      <td>13:13</td>\n",
       "      <td>-2.5</td>\n",
       "      <td>23:50</td>\n",
       "      <td>7.8</td>\n",
       "    </tr>\n",
       "    <tr>\n",
       "      <th>4</th>\n",
       "      <td>2016-01-05</td>\n",
       "      <td>-2.7</td>\n",
       "      <td>1.5</td>\n",
       "      <td>15:12</td>\n",
       "      <td>-4.8</td>\n",
       "      <td>8:44</td>\n",
       "      <td>6.3</td>\n",
       "    </tr>\n",
       "  </tbody>\n",
       "</table>\n",
       "</div>"
      ],
      "text/plain": [
       "           일시  평균기온(℃)  최고기온(℃) 최고기온시각  최저기온(℃) 최저기온시각  일교차\n",
       "0  2016-01-01      1.2      4.0  14:42     -3.3   4:56  7.3\n",
       "1  2016-01-02      5.7      9.5  15:14      1.0   7:44  8.5\n",
       "2  2016-01-03      6.5      9.4  15:06      5.1  23:59  4.3\n",
       "3  2016-01-04      2.0      5.3  13:13     -2.5  23:50  7.8\n",
       "4  2016-01-05     -2.7      1.5  15:12     -4.8   8:44  6.3"
      ]
     },
     "execution_count": 9,
     "metadata": {},
     "output_type": "execute_result"
    }
   ],
   "source": [
    "temperature.head()"
   ]
  },
  {
   "cell_type": "markdown",
   "id": "9b5d9774",
   "metadata": {},
   "source": [
    "## 관측자료를 모두 병합\n",
    "'일시'를 기준으로 병합"
   ]
  },
  {
   "cell_type": "code",
   "execution_count": 10,
   "id": "19e0ec80",
   "metadata": {},
   "outputs": [],
   "source": [
    "merge_data = pd.merge(temperature, rainfall, on='일시')\n",
    "merge_data = pd.merge(merge_data, wind, on='일시')\n",
    "merge_data = pd.merge(merge_data, humidity, on='일시')\n",
    "merge_data = pd.merge(merge_data, sunshine, on='일시')\n",
    "merge_data = merge_data[:2158]"
   ]
  },
  {
   "cell_type": "markdown",
   "id": "8e3c3697",
   "metadata": {},
   "source": [
    "## observed.csv로 저장"
   ]
  },
  {
   "cell_type": "code",
   "execution_count": 11,
   "id": "f3db2d15",
   "metadata": {
    "scrolled": true
   },
   "outputs": [],
   "source": [
    "merge_data.to_csv(\"observed.csv\", mode='w', encoding='cp949')"
   ]
  },
  {
   "cell_type": "code",
   "execution_count": 12,
   "id": "bc15e33e",
   "metadata": {
    "scrolled": true
   },
   "outputs": [
    {
     "data": {
      "text/html": [
       "<div>\n",
       "<style scoped>\n",
       "    .dataframe tbody tr th:only-of-type {\n",
       "        vertical-align: middle;\n",
       "    }\n",
       "\n",
       "    .dataframe tbody tr th {\n",
       "        vertical-align: top;\n",
       "    }\n",
       "\n",
       "    .dataframe thead th {\n",
       "        text-align: right;\n",
       "    }\n",
       "</style>\n",
       "<table border=\"1\" class=\"dataframe\">\n",
       "  <thead>\n",
       "    <tr style=\"text-align: right;\">\n",
       "      <th></th>\n",
       "      <th>일시</th>\n",
       "      <th>평균기온(℃)</th>\n",
       "      <th>최고기온(℃)</th>\n",
       "      <th>최고기온시각</th>\n",
       "      <th>최저기온(℃)</th>\n",
       "      <th>최저기온시각</th>\n",
       "      <th>일교차</th>\n",
       "      <th>강수량(mm)</th>\n",
       "      <th>1시간최다강수량(mm)</th>\n",
       "      <th>1시간최다강수량시각</th>\n",
       "      <th>...</th>\n",
       "      <th>최대풍속풍향(deg)</th>\n",
       "      <th>최대풍속시각</th>\n",
       "      <th>최대순간풍속(m/s)</th>\n",
       "      <th>최대순간풍속풍향(deg)</th>\n",
       "      <th>최대순간풍속시각</th>\n",
       "      <th>평균습도(%rh)</th>\n",
       "      <th>최저습도(%rh)</th>\n",
       "      <th>일조합</th>\n",
       "      <th>일조율</th>\n",
       "      <th>일사합</th>\n",
       "    </tr>\n",
       "  </thead>\n",
       "  <tbody>\n",
       "    <tr>\n",
       "      <th>0</th>\n",
       "      <td>2016-01-01</td>\n",
       "      <td>1.2</td>\n",
       "      <td>4.0</td>\n",
       "      <td>14:42</td>\n",
       "      <td>-3.3</td>\n",
       "      <td>4:56</td>\n",
       "      <td>7.3</td>\n",
       "      <td>NaN</td>\n",
       "      <td>NaN</td>\n",
       "      <td>NaN</td>\n",
       "      <td>...</td>\n",
       "      <td>270.0</td>\n",
       "      <td>15:17</td>\n",
       "      <td>5.6</td>\n",
       "      <td>290.0</td>\n",
       "      <td>16:07</td>\n",
       "      <td>73.0</td>\n",
       "      <td>56.0</td>\n",
       "      <td>2.1</td>\n",
       "      <td>21.9</td>\n",
       "      <td>4.61</td>\n",
       "    </tr>\n",
       "    <tr>\n",
       "      <th>1</th>\n",
       "      <td>2016-01-02</td>\n",
       "      <td>5.7</td>\n",
       "      <td>9.5</td>\n",
       "      <td>15:14</td>\n",
       "      <td>1.0</td>\n",
       "      <td>7:44</td>\n",
       "      <td>8.5</td>\n",
       "      <td>NaN</td>\n",
       "      <td>NaN</td>\n",
       "      <td>NaN</td>\n",
       "      <td>...</td>\n",
       "      <td>320.0</td>\n",
       "      <td>15:50</td>\n",
       "      <td>6.9</td>\n",
       "      <td>320.0</td>\n",
       "      <td>15:12</td>\n",
       "      <td>76.9</td>\n",
       "      <td>62.0</td>\n",
       "      <td>3.6</td>\n",
       "      <td>37.5</td>\n",
       "      <td>4.50</td>\n",
       "    </tr>\n",
       "    <tr>\n",
       "      <th>2</th>\n",
       "      <td>2016-01-03</td>\n",
       "      <td>6.5</td>\n",
       "      <td>9.4</td>\n",
       "      <td>15:06</td>\n",
       "      <td>5.1</td>\n",
       "      <td>23:59</td>\n",
       "      <td>4.3</td>\n",
       "      <td>NaN</td>\n",
       "      <td>NaN</td>\n",
       "      <td>NaN</td>\n",
       "      <td>...</td>\n",
       "      <td>320.0</td>\n",
       "      <td>12:58</td>\n",
       "      <td>5.7</td>\n",
       "      <td>340.0</td>\n",
       "      <td>23:38</td>\n",
       "      <td>80.6</td>\n",
       "      <td>61.0</td>\n",
       "      <td>2.2</td>\n",
       "      <td>22.7</td>\n",
       "      <td>4.85</td>\n",
       "    </tr>\n",
       "    <tr>\n",
       "      <th>3</th>\n",
       "      <td>2016-01-04</td>\n",
       "      <td>2.0</td>\n",
       "      <td>5.3</td>\n",
       "      <td>13:13</td>\n",
       "      <td>-2.5</td>\n",
       "      <td>23:50</td>\n",
       "      <td>7.8</td>\n",
       "      <td>NaN</td>\n",
       "      <td>NaN</td>\n",
       "      <td>NaN</td>\n",
       "      <td>...</td>\n",
       "      <td>50.0</td>\n",
       "      <td>13:38</td>\n",
       "      <td>8.6</td>\n",
       "      <td>320.0</td>\n",
       "      <td>12:52</td>\n",
       "      <td>54.4</td>\n",
       "      <td>28.0</td>\n",
       "      <td>8.6</td>\n",
       "      <td>88.7</td>\n",
       "      <td>9.03</td>\n",
       "    </tr>\n",
       "  </tbody>\n",
       "</table>\n",
       "<p>4 rows × 22 columns</p>\n",
       "</div>"
      ],
      "text/plain": [
       "           일시  평균기온(℃)  최고기온(℃) 최고기온시각  최저기온(℃) 최저기온시각  일교차  강수량(mm)  \\\n",
       "0  2016-01-01      1.2      4.0  14:42     -3.3   4:56  7.3      NaN   \n",
       "1  2016-01-02      5.7      9.5  15:14      1.0   7:44  8.5      NaN   \n",
       "2  2016-01-03      6.5      9.4  15:06      5.1  23:59  4.3      NaN   \n",
       "3  2016-01-04      2.0      5.3  13:13     -2.5  23:50  7.8      NaN   \n",
       "\n",
       "   1시간최다강수량(mm) 1시간최다강수량시각  ...  최대풍속풍향(deg)  최대풍속시각  최대순간풍속(m/s)  \\\n",
       "0           NaN        NaN  ...        270.0   15:17          5.6   \n",
       "1           NaN        NaN  ...        320.0   15:50          6.9   \n",
       "2           NaN        NaN  ...        320.0   12:58          5.7   \n",
       "3           NaN        NaN  ...         50.0   13:38          8.6   \n",
       "\n",
       "  최대순간풍속풍향(deg)  최대순간풍속시각  평균습도(%rh) 최저습도(%rh)  일조합   일조율   일사합  \n",
       "0         290.0     16:07       73.0      56.0  2.1  21.9  4.61  \n",
       "1         320.0     15:12       76.9      62.0  3.6  37.5  4.50  \n",
       "2         340.0     23:38       80.6      61.0  2.2  22.7  4.85  \n",
       "3         320.0     12:52       54.4      28.0  8.6  88.7  9.03  \n",
       "\n",
       "[4 rows x 22 columns]"
      ]
     },
     "execution_count": 12,
     "metadata": {},
     "output_type": "execute_result"
    }
   ],
   "source": [
    "observed = pd.read_csv(\"observed.csv\", encoding='cp949')\n",
    "observed = observed.drop([observed.columns[0]], axis=1) # 저장하면서 index열이 생김. 이를 지우기 위함.\n",
    "observed.head(4)"
   ]
  },
  {
   "cell_type": "code",
   "execution_count": 13,
   "id": "f7f23c54",
   "metadata": {},
   "outputs": [
    {
     "data": {
      "text/plain": [
       "2158"
      ]
     },
     "execution_count": 13,
     "metadata": {},
     "output_type": "execute_result"
    }
   ],
   "source": [
    "len(observed)"
   ]
  },
  {
   "cell_type": "markdown",
   "id": "0a4c6217",
   "metadata": {},
   "source": [
    "## 기상 데이터 불러오기 - Target"
   ]
  },
  {
   "cell_type": "code",
   "execution_count": 14,
   "id": "d858ab88",
   "metadata": {
    "scrolled": false
   },
   "outputs": [
    {
     "data": {
      "text/html": [
       "<div>\n",
       "<style scoped>\n",
       "    .dataframe tbody tr th:only-of-type {\n",
       "        vertical-align: middle;\n",
       "    }\n",
       "\n",
       "    .dataframe tbody tr th {\n",
       "        vertical-align: top;\n",
       "    }\n",
       "\n",
       "    .dataframe thead th {\n",
       "        text-align: right;\n",
       "    }\n",
       "</style>\n",
       "<table border=\"1\" class=\"dataframe\">\n",
       "  <thead>\n",
       "    <tr style=\"text-align: right;\">\n",
       "      <th></th>\n",
       "      <th>발표시각</th>\n",
       "      <th>지역</th>\n",
       "      <th>예보시각</th>\n",
       "      <th>예보</th>\n",
       "    </tr>\n",
       "  </thead>\n",
       "  <tbody>\n",
       "    <tr>\n",
       "      <th>0</th>\n",
       "      <td>2015-12-29 06시</td>\n",
       "      <td>서울.인천.경기</td>\n",
       "      <td>2016-01-08 오전</td>\n",
       "      <td>구름많음</td>\n",
       "    </tr>\n",
       "    <tr>\n",
       "      <th>1</th>\n",
       "      <td>2015-12-29 06시</td>\n",
       "      <td>충청북도</td>\n",
       "      <td>2016-01-08 오전</td>\n",
       "      <td>구름많음</td>\n",
       "    </tr>\n",
       "    <tr>\n",
       "      <th>2</th>\n",
       "      <td>2015-12-29 06시</td>\n",
       "      <td>충청남도</td>\n",
       "      <td>2016-01-08 오전</td>\n",
       "      <td>구름많음</td>\n",
       "    </tr>\n",
       "    <tr>\n",
       "      <th>3</th>\n",
       "      <td>2015-12-29 06시</td>\n",
       "      <td>강원영서</td>\n",
       "      <td>2016-01-08 오전</td>\n",
       "      <td>구름많음</td>\n",
       "    </tr>\n",
       "    <tr>\n",
       "      <th>4</th>\n",
       "      <td>2015-12-29 06시</td>\n",
       "      <td>강원영동</td>\n",
       "      <td>2016-01-08 오전</td>\n",
       "      <td>구름많음</td>\n",
       "    </tr>\n",
       "    <tr>\n",
       "      <th>5</th>\n",
       "      <td>2015-12-29 06시</td>\n",
       "      <td>전라북도</td>\n",
       "      <td>2016-01-08 오전</td>\n",
       "      <td>구름많음</td>\n",
       "    </tr>\n",
       "    <tr>\n",
       "      <th>6</th>\n",
       "      <td>2015-12-29 06시</td>\n",
       "      <td>전라남도</td>\n",
       "      <td>2016-01-08 오전</td>\n",
       "      <td>구름많음</td>\n",
       "    </tr>\n",
       "    <tr>\n",
       "      <th>7</th>\n",
       "      <td>2015-12-29 06시</td>\n",
       "      <td>제주도</td>\n",
       "      <td>2016-01-08 오전</td>\n",
       "      <td>구름많음</td>\n",
       "    </tr>\n",
       "    <tr>\n",
       "      <th>8</th>\n",
       "      <td>2015-12-29 06시</td>\n",
       "      <td>경상북도</td>\n",
       "      <td>2016-01-08 오전</td>\n",
       "      <td>구름많음</td>\n",
       "    </tr>\n",
       "    <tr>\n",
       "      <th>9</th>\n",
       "      <td>2015-12-29 06시</td>\n",
       "      <td>경상남도</td>\n",
       "      <td>2016-01-08 오전</td>\n",
       "      <td>구름많음</td>\n",
       "    </tr>\n",
       "  </tbody>\n",
       "</table>\n",
       "</div>"
      ],
      "text/plain": [
       "             발표시각        지역           예보시각    예보\n",
       "0  2015-12-29 06시  서울.인천.경기  2016-01-08 오전  구름많음\n",
       "1  2015-12-29 06시      충청북도  2016-01-08 오전  구름많음\n",
       "2  2015-12-29 06시      충청남도  2016-01-08 오전  구름많음\n",
       "3  2015-12-29 06시      강원영서  2016-01-08 오전  구름많음\n",
       "4  2015-12-29 06시      강원영동  2016-01-08 오전  구름많음\n",
       "5  2015-12-29 06시      전라북도  2016-01-08 오전  구름많음\n",
       "6  2015-12-29 06시      전라남도  2016-01-08 오전  구름많음\n",
       "7  2015-12-29 06시       제주도  2016-01-08 오전  구름많음\n",
       "8  2015-12-29 06시      경상북도  2016-01-08 오전  구름많음\n",
       "9  2015-12-29 06시      경상남도  2016-01-08 오전  구름많음"
      ]
     },
     "execution_count": 14,
     "metadata": {},
     "output_type": "execute_result"
    }
   ],
   "source": [
    "weather = pd.read_csv(\"기상(타겟).csv\", encoding=\"cp949\", low_memory=False) # low_memory = 경고 무시용\n",
    "weather.head(10)"
   ]
  },
  {
   "cell_type": "markdown",
   "id": "534080d8",
   "metadata": {},
   "source": [
    "### target은 전국의 데이터를 모두 가지고 있다."
   ]
  },
  {
   "cell_type": "code",
   "execution_count": 15,
   "id": "01402540",
   "metadata": {},
   "outputs": [
    {
     "data": {
      "text/plain": [
       "560320"
      ]
     },
     "execution_count": 15,
     "metadata": {},
     "output_type": "execute_result"
    }
   ],
   "source": [
    "len(weather)"
   ]
  },
  {
   "cell_type": "markdown",
   "id": "5bcef232",
   "metadata": {},
   "source": [
    "## 지역 필터링\n",
    "observed.csv에 대응되는 지역 선택"
   ]
  },
  {
   "cell_type": "code",
   "execution_count": 16,
   "id": "61e03b26",
   "metadata": {},
   "outputs": [
    {
     "data": {
      "text/html": [
       "<div>\n",
       "<style scoped>\n",
       "    .dataframe tbody tr th:only-of-type {\n",
       "        vertical-align: middle;\n",
       "    }\n",
       "\n",
       "    .dataframe tbody tr th {\n",
       "        vertical-align: top;\n",
       "    }\n",
       "\n",
       "    .dataframe thead th {\n",
       "        text-align: right;\n",
       "    }\n",
       "</style>\n",
       "<table border=\"1\" class=\"dataframe\">\n",
       "  <thead>\n",
       "    <tr style=\"text-align: right;\">\n",
       "      <th></th>\n",
       "      <th>지역</th>\n",
       "      <th>예보시각</th>\n",
       "      <th>예보</th>\n",
       "    </tr>\n",
       "  </thead>\n",
       "  <tbody>\n",
       "    <tr>\n",
       "      <th>0</th>\n",
       "      <td>서울.인천.경기</td>\n",
       "      <td>2016-01-08 오전</td>\n",
       "      <td>구름많음</td>\n",
       "    </tr>\n",
       "    <tr>\n",
       "      <th>10</th>\n",
       "      <td>서울.인천.경기</td>\n",
       "      <td>2016-01-07 오전</td>\n",
       "      <td>구름많음</td>\n",
       "    </tr>\n",
       "    <tr>\n",
       "      <th>20</th>\n",
       "      <td>서울.인천.경기</td>\n",
       "      <td>2016-01-06 오전</td>\n",
       "      <td>구름많음</td>\n",
       "    </tr>\n",
       "    <tr>\n",
       "      <th>30</th>\n",
       "      <td>서울.인천.경기</td>\n",
       "      <td>2016-01-05 오후</td>\n",
       "      <td>구름많음</td>\n",
       "    </tr>\n",
       "    <tr>\n",
       "      <th>40</th>\n",
       "      <td>서울.인천.경기</td>\n",
       "      <td>2016-01-05 오전</td>\n",
       "      <td>구름많음</td>\n",
       "    </tr>\n",
       "    <tr>\n",
       "      <th>50</th>\n",
       "      <td>서울.인천.경기</td>\n",
       "      <td>2016-01-04 오후</td>\n",
       "      <td>구름많음</td>\n",
       "    </tr>\n",
       "    <tr>\n",
       "      <th>60</th>\n",
       "      <td>서울.인천.경기</td>\n",
       "      <td>2016-01-04 오전</td>\n",
       "      <td>구름많음</td>\n",
       "    </tr>\n",
       "    <tr>\n",
       "      <th>70</th>\n",
       "      <td>서울.인천.경기</td>\n",
       "      <td>2016-01-03 오후</td>\n",
       "      <td>구름많음</td>\n",
       "    </tr>\n",
       "    <tr>\n",
       "      <th>80</th>\n",
       "      <td>서울.인천.경기</td>\n",
       "      <td>2016-01-03 오전</td>\n",
       "      <td>구름많음</td>\n",
       "    </tr>\n",
       "    <tr>\n",
       "      <th>90</th>\n",
       "      <td>서울.인천.경기</td>\n",
       "      <td>2016-01-02 오후</td>\n",
       "      <td>구름많음</td>\n",
       "    </tr>\n",
       "  </tbody>\n",
       "</table>\n",
       "</div>"
      ],
      "text/plain": [
       "          지역           예보시각    예보\n",
       "0   서울.인천.경기  2016-01-08 오전  구름많음\n",
       "10  서울.인천.경기  2016-01-07 오전  구름많음\n",
       "20  서울.인천.경기  2016-01-06 오전  구름많음\n",
       "30  서울.인천.경기  2016-01-05 오후  구름많음\n",
       "40  서울.인천.경기  2016-01-05 오전  구름많음\n",
       "50  서울.인천.경기  2016-01-04 오후  구름많음\n",
       "60  서울.인천.경기  2016-01-04 오전  구름많음\n",
       "70  서울.인천.경기  2016-01-03 오후  구름많음\n",
       "80  서울.인천.경기  2016-01-03 오전  구름많음\n",
       "90  서울.인천.경기  2016-01-02 오후  구름많음"
      ]
     },
     "execution_count": 16,
     "metadata": {},
     "output_type": "execute_result"
    }
   ],
   "source": [
    "weather = weather[weather['지역']=='서울.인천.경기']\n",
    "weather = weather.drop(weather.columns[0], axis=1)\n",
    "weather.head(10)"
   ]
  },
  {
   "cell_type": "markdown",
   "id": "46ebc335",
   "metadata": {},
   "source": [
    "### 하루에 예보가 여러 개가 존재한다.\n",
    "#### observed.csv는 하루에 예보가 하나이므로 target을 그에 맞춰 조정해야 한다."
   ]
  },
  {
   "cell_type": "code",
   "execution_count": 17,
   "id": "50db52a0",
   "metadata": {},
   "outputs": [
    {
     "name": "stdout",
     "output_type": "stream",
     "text": [
      "오전 기록 수 :  34472\n",
      "오후 기록 수 :  21560\n"
     ]
    }
   ],
   "source": [
    "morning = 0\n",
    "afternoon = 0\n",
    "for forecast in weather['예보시각']:\n",
    "    if '오전' in forecast:\n",
    "        morning += 1\n",
    "    elif '오후' in forecast:\n",
    "        afternoon += 1\n",
    "print(\"오전 기록 수 : \", morning)\n",
    "print(\"오후 기록 수 : \", afternoon)"
   ]
  },
  {
   "cell_type": "markdown",
   "id": "f03f7632",
   "metadata": {},
   "source": [
    "#### 오전과 오후 기록 수의 차이가 난다."
   ]
  },
  {
   "cell_type": "markdown",
   "id": "e1dfd798",
   "metadata": {},
   "source": [
    "### sort_values()로 예보시각에 대해 정렬"
   ]
  },
  {
   "cell_type": "code",
   "execution_count": 18,
   "id": "fe7664c3",
   "metadata": {
    "scrolled": false
   },
   "outputs": [
    {
     "data": {
      "text/html": [
       "<div>\n",
       "<style scoped>\n",
       "    .dataframe tbody tr th:only-of-type {\n",
       "        vertical-align: middle;\n",
       "    }\n",
       "\n",
       "    .dataframe tbody tr th {\n",
       "        vertical-align: top;\n",
       "    }\n",
       "\n",
       "    .dataframe thead th {\n",
       "        text-align: right;\n",
       "    }\n",
       "</style>\n",
       "<table border=\"1\" class=\"dataframe\">\n",
       "  <thead>\n",
       "    <tr style=\"text-align: right;\">\n",
       "      <th></th>\n",
       "      <th>지역</th>\n",
       "      <th>예보시각</th>\n",
       "      <th>예보</th>\n",
       "    </tr>\n",
       "  </thead>\n",
       "  <tbody>\n",
       "    <tr>\n",
       "      <th>0</th>\n",
       "      <td>서울.인천.경기</td>\n",
       "      <td>2016-01-01 오전</td>\n",
       "      <td>구름조금</td>\n",
       "    </tr>\n",
       "    <tr>\n",
       "      <th>1</th>\n",
       "      <td>서울.인천.경기</td>\n",
       "      <td>2016-01-01 오전</td>\n",
       "      <td>구름조금</td>\n",
       "    </tr>\n",
       "    <tr>\n",
       "      <th>2</th>\n",
       "      <td>서울.인천.경기</td>\n",
       "      <td>2016-01-01 오후</td>\n",
       "      <td>구름조금</td>\n",
       "    </tr>\n",
       "    <tr>\n",
       "      <th>3</th>\n",
       "      <td>서울.인천.경기</td>\n",
       "      <td>2016-01-01 오후</td>\n",
       "      <td>구름조금</td>\n",
       "    </tr>\n",
       "    <tr>\n",
       "      <th>4</th>\n",
       "      <td>서울.인천.경기</td>\n",
       "      <td>2016-01-02 오전</td>\n",
       "      <td>구름많고 눈/비</td>\n",
       "    </tr>\n",
       "    <tr>\n",
       "      <th>5</th>\n",
       "      <td>서울.인천.경기</td>\n",
       "      <td>2016-01-02 오전</td>\n",
       "      <td>구름많음</td>\n",
       "    </tr>\n",
       "    <tr>\n",
       "      <th>6</th>\n",
       "      <td>서울.인천.경기</td>\n",
       "      <td>2016-01-02 오전</td>\n",
       "      <td>구름많고 눈/비</td>\n",
       "    </tr>\n",
       "    <tr>\n",
       "      <th>7</th>\n",
       "      <td>서울.인천.경기</td>\n",
       "      <td>2016-01-02 오전</td>\n",
       "      <td>구름많고 눈/비</td>\n",
       "    </tr>\n",
       "    <tr>\n",
       "      <th>8</th>\n",
       "      <td>서울.인천.경기</td>\n",
       "      <td>2016-01-02 오후</td>\n",
       "      <td>구름많음</td>\n",
       "    </tr>\n",
       "    <tr>\n",
       "      <th>9</th>\n",
       "      <td>서울.인천.경기</td>\n",
       "      <td>2016-01-02 오후</td>\n",
       "      <td>구름많음</td>\n",
       "    </tr>\n",
       "  </tbody>\n",
       "</table>\n",
       "</div>"
      ],
      "text/plain": [
       "         지역           예보시각        예보\n",
       "0  서울.인천.경기  2016-01-01 오전      구름조금\n",
       "1  서울.인천.경기  2016-01-01 오전      구름조금\n",
       "2  서울.인천.경기  2016-01-01 오후      구름조금\n",
       "3  서울.인천.경기  2016-01-01 오후      구름조금\n",
       "4  서울.인천.경기  2016-01-02 오전  구름많고 눈/비\n",
       "5  서울.인천.경기  2016-01-02 오전      구름많음\n",
       "6  서울.인천.경기  2016-01-02 오전  구름많고 눈/비\n",
       "7  서울.인천.경기  2016-01-02 오전  구름많고 눈/비\n",
       "8  서울.인천.경기  2016-01-02 오후      구름많음\n",
       "9  서울.인천.경기  2016-01-02 오후      구름많음"
      ]
     },
     "execution_count": 18,
     "metadata": {},
     "output_type": "execute_result"
    }
   ],
   "source": [
    "weather = weather.sort_values(by=['예보시각'])\n",
    "weather = weather.reset_index(drop=True)\n",
    "weather.head(10)"
   ]
  },
  {
   "cell_type": "markdown",
   "id": "efd06df5",
   "metadata": {},
   "source": [
    "### 하루에 몇 회 관측이 되었는지 count"
   ]
  },
  {
   "cell_type": "code",
   "execution_count": 19,
   "id": "b20b964b",
   "metadata": {
    "scrolled": true
   },
   "outputs": [
    {
     "name": "stdout",
     "output_type": "stream",
     "text": [
      "2016-01-01 4\n",
      "2016-01-02 8\n",
      "2016-01-03 12\n",
      "2016-01-04 16\n",
      "2016-01-05 20\n",
      "2016-01-06 22\n",
      "2016-01-07 24\n",
      "2016-01-08 26\n"
     ]
    }
   ],
   "source": [
    "count = 1\n",
    "for i in range(150):\n",
    "    date = weather['예보시각'][i][:10]\n",
    "    if date in weather['예보시각'][i+1]:\n",
    "        count += 1\n",
    "    else:\n",
    "        print(date, count)\n",
    "        count = 1"
   ]
  },
  {
   "cell_type": "markdown",
   "id": "61ee6cbd",
   "metadata": {},
   "source": [
    "하루에 수 회에서 수십 번의 관측이 있다."
   ]
  },
  {
   "cell_type": "markdown",
   "id": "ed74900a",
   "metadata": {},
   "source": [
    "### 날씨 선택 - 가장 나쁜 날씨로 선택\n",
    "#### 맑음 < 구름 < 흐림 < 소나기 < 눈/비\n",
    "ex) 많음, 눈/비가 있으면 눈/비로 기록\n",
    "\n",
    "구름, 흐림의 경우 흐린 날씨로 판정"
   ]
  },
  {
   "cell_type": "code",
   "execution_count": 20,
   "id": "356c6803",
   "metadata": {
    "scrolled": false
   },
   "outputs": [
    {
     "data": {
      "text/plain": [
       "array(['구름조금', '구름많고 눈/비', '구름많음', '구름많고 비/눈', '구름많고 눈', '구름많고 비',\n",
       "       '흐리고 비', '흐리고 눈/비', '흐림', '맑음', '흐리고 비/눈', '흐리고 눈', '구름많고 소나기'],\n",
       "      dtype=object)"
      ]
     },
     "execution_count": 20,
     "metadata": {},
     "output_type": "execute_result"
    }
   ],
   "source": [
    "weather['예보'].unique()"
   ]
  },
  {
   "cell_type": "code",
   "execution_count": 21,
   "id": "ed8d7019",
   "metadata": {},
   "outputs": [],
   "source": [
    "forecast_score = {'맑음':0,\n",
    "                  '구름조금':1, '구름많음':1.1,\n",
    "                  '흐림':2,\n",
    "                  '구름많고 소나기':3, '구름많고 비':3.1, '구름많고 비/눈':3.2, '구름많고 눈/비':3.2, '구름많고 눈':3.3,\n",
    "                  '흐리고 비':4, '흐리고 눈/비':4.1, '흐리고 비/눈':4.1, '흐리고 눈':4.2}\n",
    "re_score = {v:k for k,v in forecast_score.items()}"
   ]
  },
  {
   "cell_type": "code",
   "execution_count": 22,
   "id": "e5d28325",
   "metadata": {},
   "outputs": [],
   "source": [
    "from scipy.stats import mode\n",
    "\n",
    "def select_forecast(date):\n",
    "    temp = 0\n",
    "    for forecast in date:\n",
    "        if forecast_score[forecast] > temp:\n",
    "            temp = forecast_score[forecast]\n",
    "    return re_score[temp]"
   ]
  },
  {
   "cell_type": "markdown",
   "id": "1dc938e6",
   "metadata": {},
   "source": [
    "#### 하루에 예보가 하나만 존재하는 형태의 weather_copy를 준비"
   ]
  },
  {
   "cell_type": "code",
   "execution_count": 23,
   "id": "608cd9e1",
   "metadata": {},
   "outputs": [],
   "source": [
    "weather_copy = weather.copy()\n",
    "for i, w in enumerate(weather_copy['예보시각']):\n",
    "    weather_copy['예보시각'][i] = w[:10]"
   ]
  },
  {
   "cell_type": "code",
   "execution_count": 24,
   "id": "12cc8e97",
   "metadata": {
    "scrolled": false
   },
   "outputs": [
    {
     "data": {
      "text/html": [
       "<div>\n",
       "<style scoped>\n",
       "    .dataframe tbody tr th:only-of-type {\n",
       "        vertical-align: middle;\n",
       "    }\n",
       "\n",
       "    .dataframe tbody tr th {\n",
       "        vertical-align: top;\n",
       "    }\n",
       "\n",
       "    .dataframe thead th {\n",
       "        text-align: right;\n",
       "    }\n",
       "</style>\n",
       "<table border=\"1\" class=\"dataframe\">\n",
       "  <thead>\n",
       "    <tr style=\"text-align: right;\">\n",
       "      <th></th>\n",
       "      <th>지역</th>\n",
       "      <th>예보시각</th>\n",
       "      <th>예보</th>\n",
       "    </tr>\n",
       "  </thead>\n",
       "  <tbody>\n",
       "    <tr>\n",
       "      <th>0</th>\n",
       "      <td>서울.인천.경기</td>\n",
       "      <td>2016-01-01</td>\n",
       "      <td></td>\n",
       "    </tr>\n",
       "    <tr>\n",
       "      <th>1</th>\n",
       "      <td>서울.인천.경기</td>\n",
       "      <td>2016-01-02</td>\n",
       "      <td></td>\n",
       "    </tr>\n",
       "    <tr>\n",
       "      <th>2</th>\n",
       "      <td>서울.인천.경기</td>\n",
       "      <td>2016-01-03</td>\n",
       "      <td></td>\n",
       "    </tr>\n",
       "    <tr>\n",
       "      <th>3</th>\n",
       "      <td>서울.인천.경기</td>\n",
       "      <td>2016-01-04</td>\n",
       "      <td></td>\n",
       "    </tr>\n",
       "    <tr>\n",
       "      <th>4</th>\n",
       "      <td>서울.인천.경기</td>\n",
       "      <td>2016-01-05</td>\n",
       "      <td></td>\n",
       "    </tr>\n",
       "    <tr>\n",
       "      <th>5</th>\n",
       "      <td>서울.인천.경기</td>\n",
       "      <td>2016-01-06</td>\n",
       "      <td></td>\n",
       "    </tr>\n",
       "    <tr>\n",
       "      <th>6</th>\n",
       "      <td>서울.인천.경기</td>\n",
       "      <td>2016-01-07</td>\n",
       "      <td></td>\n",
       "    </tr>\n",
       "    <tr>\n",
       "      <th>7</th>\n",
       "      <td>서울.인천.경기</td>\n",
       "      <td>2016-01-08</td>\n",
       "      <td></td>\n",
       "    </tr>\n",
       "    <tr>\n",
       "      <th>8</th>\n",
       "      <td>서울.인천.경기</td>\n",
       "      <td>2016-01-09</td>\n",
       "      <td></td>\n",
       "    </tr>\n",
       "    <tr>\n",
       "      <th>9</th>\n",
       "      <td>서울.인천.경기</td>\n",
       "      <td>2016-01-10</td>\n",
       "      <td></td>\n",
       "    </tr>\n",
       "  </tbody>\n",
       "</table>\n",
       "</div>"
      ],
      "text/plain": [
       "         지역        예보시각 예보\n",
       "0  서울.인천.경기  2016-01-01   \n",
       "1  서울.인천.경기  2016-01-02   \n",
       "2  서울.인천.경기  2016-01-03   \n",
       "3  서울.인천.경기  2016-01-04   \n",
       "4  서울.인천.경기  2016-01-05   \n",
       "5  서울.인천.경기  2016-01-06   \n",
       "6  서울.인천.경기  2016-01-07   \n",
       "7  서울.인천.경기  2016-01-08   \n",
       "8  서울.인천.경기  2016-01-09   \n",
       "9  서울.인천.경기  2016-01-10   "
      ]
     },
     "execution_count": 24,
     "metadata": {},
     "output_type": "execute_result"
    }
   ],
   "source": [
    "import numpy as np\n",
    "\n",
    "weather_copy = weather_copy.drop_duplicates(['예보시각'])\n",
    "weather_copy = weather_copy.reset_index(drop=True)\n",
    "weather_copy['예보'] = ''\n",
    "weather_copy.head(10)"
   ]
  },
  {
   "cell_type": "markdown",
   "id": "3573081f",
   "metadata": {},
   "source": [
    "#### weather_copy에 select_forecast()결과를 대입"
   ]
  },
  {
   "cell_type": "code",
   "execution_count": 25,
   "id": "ae8fd9da",
   "metadata": {},
   "outputs": [],
   "source": [
    "w=0\n",
    "start = 0\n",
    "for i in range(len(weather)):\n",
    "    if weather_copy[\"예보시각\"][w] not in weather[\"예보시각\"][i]:\n",
    "        weather_copy[\"예보\"][w] = select_forecast(weather[\"예보\"][start:i])\n",
    "        w += 1\n",
    "        start = i"
   ]
  },
  {
   "cell_type": "code",
   "execution_count": 26,
   "id": "0e858697",
   "metadata": {
    "scrolled": false
   },
   "outputs": [
    {
     "data": {
      "text/html": [
       "<div>\n",
       "<style scoped>\n",
       "    .dataframe tbody tr th:only-of-type {\n",
       "        vertical-align: middle;\n",
       "    }\n",
       "\n",
       "    .dataframe tbody tr th {\n",
       "        vertical-align: top;\n",
       "    }\n",
       "\n",
       "    .dataframe thead th {\n",
       "        text-align: right;\n",
       "    }\n",
       "</style>\n",
       "<table border=\"1\" class=\"dataframe\">\n",
       "  <thead>\n",
       "    <tr style=\"text-align: right;\">\n",
       "      <th></th>\n",
       "      <th>지역</th>\n",
       "      <th>예보시각</th>\n",
       "      <th>예보</th>\n",
       "    </tr>\n",
       "  </thead>\n",
       "  <tbody>\n",
       "    <tr>\n",
       "      <th>0</th>\n",
       "      <td>서울.인천.경기</td>\n",
       "      <td>2016-01-01</td>\n",
       "      <td>구름조금</td>\n",
       "    </tr>\n",
       "    <tr>\n",
       "      <th>1</th>\n",
       "      <td>서울.인천.경기</td>\n",
       "      <td>2016-01-02</td>\n",
       "      <td>구름많고 눈/비</td>\n",
       "    </tr>\n",
       "    <tr>\n",
       "      <th>2</th>\n",
       "      <td>서울.인천.경기</td>\n",
       "      <td>2016-01-03</td>\n",
       "      <td>구름많음</td>\n",
       "    </tr>\n",
       "    <tr>\n",
       "      <th>3</th>\n",
       "      <td>서울.인천.경기</td>\n",
       "      <td>2016-01-04</td>\n",
       "      <td>구름많음</td>\n",
       "    </tr>\n",
       "    <tr>\n",
       "      <th>4</th>\n",
       "      <td>서울.인천.경기</td>\n",
       "      <td>2016-01-05</td>\n",
       "      <td>구름많음</td>\n",
       "    </tr>\n",
       "    <tr>\n",
       "      <th>5</th>\n",
       "      <td>서울.인천.경기</td>\n",
       "      <td>2016-01-06</td>\n",
       "      <td>구름많고 눈/비</td>\n",
       "    </tr>\n",
       "    <tr>\n",
       "      <th>6</th>\n",
       "      <td>서울.인천.경기</td>\n",
       "      <td>2016-01-07</td>\n",
       "      <td>구름많음</td>\n",
       "    </tr>\n",
       "    <tr>\n",
       "      <th>7</th>\n",
       "      <td>서울.인천.경기</td>\n",
       "      <td>2016-01-08</td>\n",
       "      <td>구름많음</td>\n",
       "    </tr>\n",
       "    <tr>\n",
       "      <th>8</th>\n",
       "      <td>서울.인천.경기</td>\n",
       "      <td>2016-01-09</td>\n",
       "      <td>구름많음</td>\n",
       "    </tr>\n",
       "    <tr>\n",
       "      <th>9</th>\n",
       "      <td>서울.인천.경기</td>\n",
       "      <td>2016-01-10</td>\n",
       "      <td>구름많음</td>\n",
       "    </tr>\n",
       "  </tbody>\n",
       "</table>\n",
       "</div>"
      ],
      "text/plain": [
       "         지역        예보시각        예보\n",
       "0  서울.인천.경기  2016-01-01      구름조금\n",
       "1  서울.인천.경기  2016-01-02  구름많고 눈/비\n",
       "2  서울.인천.경기  2016-01-03      구름많음\n",
       "3  서울.인천.경기  2016-01-04      구름많음\n",
       "4  서울.인천.경기  2016-01-05      구름많음\n",
       "5  서울.인천.경기  2016-01-06  구름많고 눈/비\n",
       "6  서울.인천.경기  2016-01-07      구름많음\n",
       "7  서울.인천.경기  2016-01-08      구름많음\n",
       "8  서울.인천.경기  2016-01-09      구름많음\n",
       "9  서울.인천.경기  2016-01-10      구름많음"
      ]
     },
     "execution_count": 26,
     "metadata": {},
     "output_type": "execute_result"
    }
   ],
   "source": [
    "weather = weather_copy\n",
    "weather.head(10)"
   ]
  },
  {
   "cell_type": "markdown",
   "id": "0f6983fe",
   "metadata": {},
   "source": [
    "#### 행 560320개 -> 서울만 선택된 2158개로 축소"
   ]
  },
  {
   "cell_type": "markdown",
   "id": "75ac6a9a",
   "metadata": {},
   "source": [
    "### '지역' 열 삭제"
   ]
  },
  {
   "cell_type": "code",
   "execution_count": 27,
   "id": "0046bb1c",
   "metadata": {},
   "outputs": [
    {
     "data": {
      "text/html": [
       "<div>\n",
       "<style scoped>\n",
       "    .dataframe tbody tr th:only-of-type {\n",
       "        vertical-align: middle;\n",
       "    }\n",
       "\n",
       "    .dataframe tbody tr th {\n",
       "        vertical-align: top;\n",
       "    }\n",
       "\n",
       "    .dataframe thead th {\n",
       "        text-align: right;\n",
       "    }\n",
       "</style>\n",
       "<table border=\"1\" class=\"dataframe\">\n",
       "  <thead>\n",
       "    <tr style=\"text-align: right;\">\n",
       "      <th></th>\n",
       "      <th>예보시각</th>\n",
       "      <th>예보</th>\n",
       "    </tr>\n",
       "  </thead>\n",
       "  <tbody>\n",
       "    <tr>\n",
       "      <th>0</th>\n",
       "      <td>2016-01-01</td>\n",
       "      <td>구름조금</td>\n",
       "    </tr>\n",
       "    <tr>\n",
       "      <th>1</th>\n",
       "      <td>2016-01-02</td>\n",
       "      <td>구름많고 눈/비</td>\n",
       "    </tr>\n",
       "    <tr>\n",
       "      <th>2</th>\n",
       "      <td>2016-01-03</td>\n",
       "      <td>구름많음</td>\n",
       "    </tr>\n",
       "    <tr>\n",
       "      <th>3</th>\n",
       "      <td>2016-01-04</td>\n",
       "      <td>구름많음</td>\n",
       "    </tr>\n",
       "    <tr>\n",
       "      <th>4</th>\n",
       "      <td>2016-01-05</td>\n",
       "      <td>구름많음</td>\n",
       "    </tr>\n",
       "    <tr>\n",
       "      <th>5</th>\n",
       "      <td>2016-01-06</td>\n",
       "      <td>구름많고 눈/비</td>\n",
       "    </tr>\n",
       "    <tr>\n",
       "      <th>6</th>\n",
       "      <td>2016-01-07</td>\n",
       "      <td>구름많음</td>\n",
       "    </tr>\n",
       "    <tr>\n",
       "      <th>7</th>\n",
       "      <td>2016-01-08</td>\n",
       "      <td>구름많음</td>\n",
       "    </tr>\n",
       "    <tr>\n",
       "      <th>8</th>\n",
       "      <td>2016-01-09</td>\n",
       "      <td>구름많음</td>\n",
       "    </tr>\n",
       "    <tr>\n",
       "      <th>9</th>\n",
       "      <td>2016-01-10</td>\n",
       "      <td>구름많음</td>\n",
       "    </tr>\n",
       "  </tbody>\n",
       "</table>\n",
       "</div>"
      ],
      "text/plain": [
       "         예보시각        예보\n",
       "0  2016-01-01      구름조금\n",
       "1  2016-01-02  구름많고 눈/비\n",
       "2  2016-01-03      구름많음\n",
       "3  2016-01-04      구름많음\n",
       "4  2016-01-05      구름많음\n",
       "5  2016-01-06  구름많고 눈/비\n",
       "6  2016-01-07      구름많음\n",
       "7  2016-01-08      구름많음\n",
       "8  2016-01-09      구름많음\n",
       "9  2016-01-10      구름많음"
      ]
     },
     "execution_count": 27,
     "metadata": {},
     "output_type": "execute_result"
    }
   ],
   "source": [
    "weather = weather.drop([weather.columns[0]], axis=1)\n",
    "weather.head(10)"
   ]
  },
  {
   "cell_type": "code",
   "execution_count": 28,
   "id": "f39395c7",
   "metadata": {},
   "outputs": [],
   "source": [
    "weather.to_csv(\"forecast.csv\", mode='w', encoding='cp949')\n",
    "forecast = pd.read_csv(\"forecast.csv\", encoding='cp949')\n",
    "forecast = forecast.drop([forecast.columns[0]], axis=1) # 저장하면서 index열이 생김. 이를 지우기 위함."
   ]
  },
  {
   "cell_type": "markdown",
   "id": "e395a1e9",
   "metadata": {},
   "source": [
    "### feature와 target 확인"
   ]
  },
  {
   "cell_type": "code",
   "execution_count": 29,
   "id": "f21cc81a",
   "metadata": {
    "scrolled": false
   },
   "outputs": [
    {
     "data": {
      "text/html": [
       "<div>\n",
       "<style scoped>\n",
       "    .dataframe tbody tr th:only-of-type {\n",
       "        vertical-align: middle;\n",
       "    }\n",
       "\n",
       "    .dataframe tbody tr th {\n",
       "        vertical-align: top;\n",
       "    }\n",
       "\n",
       "    .dataframe thead th {\n",
       "        text-align: right;\n",
       "    }\n",
       "</style>\n",
       "<table border=\"1\" class=\"dataframe\">\n",
       "  <thead>\n",
       "    <tr style=\"text-align: right;\">\n",
       "      <th></th>\n",
       "      <th>일시</th>\n",
       "      <th>평균기온(℃)</th>\n",
       "      <th>최고기온(℃)</th>\n",
       "      <th>최고기온시각</th>\n",
       "      <th>최저기온(℃)</th>\n",
       "      <th>최저기온시각</th>\n",
       "      <th>일교차</th>\n",
       "      <th>강수량(mm)</th>\n",
       "      <th>1시간최다강수량(mm)</th>\n",
       "      <th>1시간최다강수량시각</th>\n",
       "      <th>...</th>\n",
       "      <th>최대풍속풍향(deg)</th>\n",
       "      <th>최대풍속시각</th>\n",
       "      <th>최대순간풍속(m/s)</th>\n",
       "      <th>최대순간풍속풍향(deg)</th>\n",
       "      <th>최대순간풍속시각</th>\n",
       "      <th>평균습도(%rh)</th>\n",
       "      <th>최저습도(%rh)</th>\n",
       "      <th>일조합</th>\n",
       "      <th>일조율</th>\n",
       "      <th>일사합</th>\n",
       "    </tr>\n",
       "  </thead>\n",
       "  <tbody>\n",
       "    <tr>\n",
       "      <th>0</th>\n",
       "      <td>2016-01-01</td>\n",
       "      <td>1.2</td>\n",
       "      <td>4.0</td>\n",
       "      <td>14:42</td>\n",
       "      <td>-3.3</td>\n",
       "      <td>4:56</td>\n",
       "      <td>7.3</td>\n",
       "      <td>NaN</td>\n",
       "      <td>NaN</td>\n",
       "      <td>NaN</td>\n",
       "      <td>...</td>\n",
       "      <td>270.0</td>\n",
       "      <td>15:17</td>\n",
       "      <td>5.6</td>\n",
       "      <td>290.0</td>\n",
       "      <td>16:07</td>\n",
       "      <td>73.0</td>\n",
       "      <td>56.0</td>\n",
       "      <td>2.1</td>\n",
       "      <td>21.9</td>\n",
       "      <td>4.61</td>\n",
       "    </tr>\n",
       "    <tr>\n",
       "      <th>1</th>\n",
       "      <td>2016-01-02</td>\n",
       "      <td>5.7</td>\n",
       "      <td>9.5</td>\n",
       "      <td>15:14</td>\n",
       "      <td>1.0</td>\n",
       "      <td>7:44</td>\n",
       "      <td>8.5</td>\n",
       "      <td>NaN</td>\n",
       "      <td>NaN</td>\n",
       "      <td>NaN</td>\n",
       "      <td>...</td>\n",
       "      <td>320.0</td>\n",
       "      <td>15:50</td>\n",
       "      <td>6.9</td>\n",
       "      <td>320.0</td>\n",
       "      <td>15:12</td>\n",
       "      <td>76.9</td>\n",
       "      <td>62.0</td>\n",
       "      <td>3.6</td>\n",
       "      <td>37.5</td>\n",
       "      <td>4.50</td>\n",
       "    </tr>\n",
       "    <tr>\n",
       "      <th>2</th>\n",
       "      <td>2016-01-03</td>\n",
       "      <td>6.5</td>\n",
       "      <td>9.4</td>\n",
       "      <td>15:06</td>\n",
       "      <td>5.1</td>\n",
       "      <td>23:59</td>\n",
       "      <td>4.3</td>\n",
       "      <td>NaN</td>\n",
       "      <td>NaN</td>\n",
       "      <td>NaN</td>\n",
       "      <td>...</td>\n",
       "      <td>320.0</td>\n",
       "      <td>12:58</td>\n",
       "      <td>5.7</td>\n",
       "      <td>340.0</td>\n",
       "      <td>23:38</td>\n",
       "      <td>80.6</td>\n",
       "      <td>61.0</td>\n",
       "      <td>2.2</td>\n",
       "      <td>22.7</td>\n",
       "      <td>4.85</td>\n",
       "    </tr>\n",
       "    <tr>\n",
       "      <th>3</th>\n",
       "      <td>2016-01-04</td>\n",
       "      <td>2.0</td>\n",
       "      <td>5.3</td>\n",
       "      <td>13:13</td>\n",
       "      <td>-2.5</td>\n",
       "      <td>23:50</td>\n",
       "      <td>7.8</td>\n",
       "      <td>NaN</td>\n",
       "      <td>NaN</td>\n",
       "      <td>NaN</td>\n",
       "      <td>...</td>\n",
       "      <td>50.0</td>\n",
       "      <td>13:38</td>\n",
       "      <td>8.6</td>\n",
       "      <td>320.0</td>\n",
       "      <td>12:52</td>\n",
       "      <td>54.4</td>\n",
       "      <td>28.0</td>\n",
       "      <td>8.6</td>\n",
       "      <td>88.7</td>\n",
       "      <td>9.03</td>\n",
       "    </tr>\n",
       "    <tr>\n",
       "      <th>4</th>\n",
       "      <td>2016-01-05</td>\n",
       "      <td>-2.7</td>\n",
       "      <td>1.5</td>\n",
       "      <td>15:12</td>\n",
       "      <td>-4.8</td>\n",
       "      <td>8:44</td>\n",
       "      <td>6.3</td>\n",
       "      <td>NaN</td>\n",
       "      <td>NaN</td>\n",
       "      <td>NaN</td>\n",
       "      <td>...</td>\n",
       "      <td>360.0</td>\n",
       "      <td>12:21</td>\n",
       "      <td>7.3</td>\n",
       "      <td>360.0</td>\n",
       "      <td>12:19</td>\n",
       "      <td>39.4</td>\n",
       "      <td>22.0</td>\n",
       "      <td>7.9</td>\n",
       "      <td>81.4</td>\n",
       "      <td>8.22</td>\n",
       "    </tr>\n",
       "  </tbody>\n",
       "</table>\n",
       "<p>5 rows × 22 columns</p>\n",
       "</div>"
      ],
      "text/plain": [
       "           일시  평균기온(℃)  최고기온(℃) 최고기온시각  최저기온(℃) 최저기온시각  일교차  강수량(mm)  \\\n",
       "0  2016-01-01      1.2      4.0  14:42     -3.3   4:56  7.3      NaN   \n",
       "1  2016-01-02      5.7      9.5  15:14      1.0   7:44  8.5      NaN   \n",
       "2  2016-01-03      6.5      9.4  15:06      5.1  23:59  4.3      NaN   \n",
       "3  2016-01-04      2.0      5.3  13:13     -2.5  23:50  7.8      NaN   \n",
       "4  2016-01-05     -2.7      1.5  15:12     -4.8   8:44  6.3      NaN   \n",
       "\n",
       "   1시간최다강수량(mm) 1시간최다강수량시각  ...  최대풍속풍향(deg)  최대풍속시각  최대순간풍속(m/s)  \\\n",
       "0           NaN        NaN  ...        270.0   15:17          5.6   \n",
       "1           NaN        NaN  ...        320.0   15:50          6.9   \n",
       "2           NaN        NaN  ...        320.0   12:58          5.7   \n",
       "3           NaN        NaN  ...         50.0   13:38          8.6   \n",
       "4           NaN        NaN  ...        360.0   12:21          7.3   \n",
       "\n",
       "  최대순간풍속풍향(deg)  최대순간풍속시각  평균습도(%rh) 최저습도(%rh)  일조합   일조율   일사합  \n",
       "0         290.0     16:07       73.0      56.0  2.1  21.9  4.61  \n",
       "1         320.0     15:12       76.9      62.0  3.6  37.5  4.50  \n",
       "2         340.0     23:38       80.6      61.0  2.2  22.7  4.85  \n",
       "3         320.0     12:52       54.4      28.0  8.6  88.7  9.03  \n",
       "4         360.0     12:19       39.4      22.0  7.9  81.4  8.22  \n",
       "\n",
       "[5 rows x 22 columns]"
      ]
     },
     "execution_count": 29,
     "metadata": {},
     "output_type": "execute_result"
    }
   ],
   "source": [
    "observed.head()"
   ]
  },
  {
   "cell_type": "code",
   "execution_count": 30,
   "id": "a988753e",
   "metadata": {},
   "outputs": [
    {
     "data": {
      "text/html": [
       "<div>\n",
       "<style scoped>\n",
       "    .dataframe tbody tr th:only-of-type {\n",
       "        vertical-align: middle;\n",
       "    }\n",
       "\n",
       "    .dataframe tbody tr th {\n",
       "        vertical-align: top;\n",
       "    }\n",
       "\n",
       "    .dataframe thead th {\n",
       "        text-align: right;\n",
       "    }\n",
       "</style>\n",
       "<table border=\"1\" class=\"dataframe\">\n",
       "  <thead>\n",
       "    <tr style=\"text-align: right;\">\n",
       "      <th></th>\n",
       "      <th>예보시각</th>\n",
       "      <th>예보</th>\n",
       "    </tr>\n",
       "  </thead>\n",
       "  <tbody>\n",
       "    <tr>\n",
       "      <th>0</th>\n",
       "      <td>2016-01-01</td>\n",
       "      <td>구름조금</td>\n",
       "    </tr>\n",
       "    <tr>\n",
       "      <th>1</th>\n",
       "      <td>2016-01-02</td>\n",
       "      <td>구름많고 눈/비</td>\n",
       "    </tr>\n",
       "    <tr>\n",
       "      <th>2</th>\n",
       "      <td>2016-01-03</td>\n",
       "      <td>구름많음</td>\n",
       "    </tr>\n",
       "    <tr>\n",
       "      <th>3</th>\n",
       "      <td>2016-01-04</td>\n",
       "      <td>구름많음</td>\n",
       "    </tr>\n",
       "    <tr>\n",
       "      <th>4</th>\n",
       "      <td>2016-01-05</td>\n",
       "      <td>구름많음</td>\n",
       "    </tr>\n",
       "  </tbody>\n",
       "</table>\n",
       "</div>"
      ],
      "text/plain": [
       "         예보시각        예보\n",
       "0  2016-01-01      구름조금\n",
       "1  2016-01-02  구름많고 눈/비\n",
       "2  2016-01-03      구름많음\n",
       "3  2016-01-04      구름많음\n",
       "4  2016-01-05      구름많음"
      ]
     },
     "execution_count": 30,
     "metadata": {},
     "output_type": "execute_result"
    }
   ],
   "source": [
    "forecast.head()"
   ]
  },
  {
   "cell_type": "markdown",
   "id": "1135f026",
   "metadata": {},
   "source": [
    "### feature와 target 병합"
   ]
  },
  {
   "cell_type": "code",
   "execution_count": 31,
   "id": "8d30b54f",
   "metadata": {},
   "outputs": [],
   "source": [
    "forecast.rename(columns = {\"예보시각\": \"일시\"}, inplace=True)"
   ]
  },
  {
   "cell_type": "code",
   "execution_count": 32,
   "id": "94a299c5",
   "metadata": {},
   "outputs": [
    {
     "data": {
      "text/html": [
       "<div>\n",
       "<style scoped>\n",
       "    .dataframe tbody tr th:only-of-type {\n",
       "        vertical-align: middle;\n",
       "    }\n",
       "\n",
       "    .dataframe tbody tr th {\n",
       "        vertical-align: top;\n",
       "    }\n",
       "\n",
       "    .dataframe thead th {\n",
       "        text-align: right;\n",
       "    }\n",
       "</style>\n",
       "<table border=\"1\" class=\"dataframe\">\n",
       "  <thead>\n",
       "    <tr style=\"text-align: right;\">\n",
       "      <th></th>\n",
       "      <th>일시</th>\n",
       "      <th>평균기온(℃)</th>\n",
       "      <th>최고기온(℃)</th>\n",
       "      <th>최고기온시각</th>\n",
       "      <th>최저기온(℃)</th>\n",
       "      <th>최저기온시각</th>\n",
       "      <th>일교차</th>\n",
       "      <th>강수량(mm)</th>\n",
       "      <th>1시간최다강수량(mm)</th>\n",
       "      <th>1시간최다강수량시각</th>\n",
       "      <th>...</th>\n",
       "      <th>최대풍속시각</th>\n",
       "      <th>최대순간풍속(m/s)</th>\n",
       "      <th>최대순간풍속풍향(deg)</th>\n",
       "      <th>최대순간풍속시각</th>\n",
       "      <th>평균습도(%rh)</th>\n",
       "      <th>최저습도(%rh)</th>\n",
       "      <th>일조합</th>\n",
       "      <th>일조율</th>\n",
       "      <th>일사합</th>\n",
       "      <th>예보</th>\n",
       "    </tr>\n",
       "  </thead>\n",
       "  <tbody>\n",
       "    <tr>\n",
       "      <th>0</th>\n",
       "      <td>2016-01-01</td>\n",
       "      <td>1.2</td>\n",
       "      <td>4.0</td>\n",
       "      <td>14:42</td>\n",
       "      <td>-3.3</td>\n",
       "      <td>4:56</td>\n",
       "      <td>7.3</td>\n",
       "      <td>NaN</td>\n",
       "      <td>NaN</td>\n",
       "      <td>NaN</td>\n",
       "      <td>...</td>\n",
       "      <td>15:17</td>\n",
       "      <td>5.6</td>\n",
       "      <td>290.0</td>\n",
       "      <td>16:07</td>\n",
       "      <td>73.0</td>\n",
       "      <td>56.0</td>\n",
       "      <td>2.1</td>\n",
       "      <td>21.9</td>\n",
       "      <td>4.61</td>\n",
       "      <td>구름조금</td>\n",
       "    </tr>\n",
       "    <tr>\n",
       "      <th>1</th>\n",
       "      <td>2016-01-02</td>\n",
       "      <td>5.7</td>\n",
       "      <td>9.5</td>\n",
       "      <td>15:14</td>\n",
       "      <td>1.0</td>\n",
       "      <td>7:44</td>\n",
       "      <td>8.5</td>\n",
       "      <td>NaN</td>\n",
       "      <td>NaN</td>\n",
       "      <td>NaN</td>\n",
       "      <td>...</td>\n",
       "      <td>15:50</td>\n",
       "      <td>6.9</td>\n",
       "      <td>320.0</td>\n",
       "      <td>15:12</td>\n",
       "      <td>76.9</td>\n",
       "      <td>62.0</td>\n",
       "      <td>3.6</td>\n",
       "      <td>37.5</td>\n",
       "      <td>4.50</td>\n",
       "      <td>구름많고 눈/비</td>\n",
       "    </tr>\n",
       "    <tr>\n",
       "      <th>2</th>\n",
       "      <td>2016-01-03</td>\n",
       "      <td>6.5</td>\n",
       "      <td>9.4</td>\n",
       "      <td>15:06</td>\n",
       "      <td>5.1</td>\n",
       "      <td>23:59</td>\n",
       "      <td>4.3</td>\n",
       "      <td>NaN</td>\n",
       "      <td>NaN</td>\n",
       "      <td>NaN</td>\n",
       "      <td>...</td>\n",
       "      <td>12:58</td>\n",
       "      <td>5.7</td>\n",
       "      <td>340.0</td>\n",
       "      <td>23:38</td>\n",
       "      <td>80.6</td>\n",
       "      <td>61.0</td>\n",
       "      <td>2.2</td>\n",
       "      <td>22.7</td>\n",
       "      <td>4.85</td>\n",
       "      <td>구름많음</td>\n",
       "    </tr>\n",
       "    <tr>\n",
       "      <th>3</th>\n",
       "      <td>2016-01-04</td>\n",
       "      <td>2.0</td>\n",
       "      <td>5.3</td>\n",
       "      <td>13:13</td>\n",
       "      <td>-2.5</td>\n",
       "      <td>23:50</td>\n",
       "      <td>7.8</td>\n",
       "      <td>NaN</td>\n",
       "      <td>NaN</td>\n",
       "      <td>NaN</td>\n",
       "      <td>...</td>\n",
       "      <td>13:38</td>\n",
       "      <td>8.6</td>\n",
       "      <td>320.0</td>\n",
       "      <td>12:52</td>\n",
       "      <td>54.4</td>\n",
       "      <td>28.0</td>\n",
       "      <td>8.6</td>\n",
       "      <td>88.7</td>\n",
       "      <td>9.03</td>\n",
       "      <td>구름많음</td>\n",
       "    </tr>\n",
       "    <tr>\n",
       "      <th>4</th>\n",
       "      <td>2016-01-05</td>\n",
       "      <td>-2.7</td>\n",
       "      <td>1.5</td>\n",
       "      <td>15:12</td>\n",
       "      <td>-4.8</td>\n",
       "      <td>8:44</td>\n",
       "      <td>6.3</td>\n",
       "      <td>NaN</td>\n",
       "      <td>NaN</td>\n",
       "      <td>NaN</td>\n",
       "      <td>...</td>\n",
       "      <td>12:21</td>\n",
       "      <td>7.3</td>\n",
       "      <td>360.0</td>\n",
       "      <td>12:19</td>\n",
       "      <td>39.4</td>\n",
       "      <td>22.0</td>\n",
       "      <td>7.9</td>\n",
       "      <td>81.4</td>\n",
       "      <td>8.22</td>\n",
       "      <td>구름많음</td>\n",
       "    </tr>\n",
       "  </tbody>\n",
       "</table>\n",
       "<p>5 rows × 23 columns</p>\n",
       "</div>"
      ],
      "text/plain": [
       "           일시  평균기온(℃)  최고기온(℃) 최고기온시각  최저기온(℃) 최저기온시각  일교차  강수량(mm)  \\\n",
       "0  2016-01-01      1.2      4.0  14:42     -3.3   4:56  7.3      NaN   \n",
       "1  2016-01-02      5.7      9.5  15:14      1.0   7:44  8.5      NaN   \n",
       "2  2016-01-03      6.5      9.4  15:06      5.1  23:59  4.3      NaN   \n",
       "3  2016-01-04      2.0      5.3  13:13     -2.5  23:50  7.8      NaN   \n",
       "4  2016-01-05     -2.7      1.5  15:12     -4.8   8:44  6.3      NaN   \n",
       "\n",
       "   1시간최다강수량(mm) 1시간최다강수량시각  ...  최대풍속시각  최대순간풍속(m/s)  최대순간풍속풍향(deg) 최대순간풍속시각  \\\n",
       "0           NaN        NaN  ...   15:17          5.6          290.0    16:07   \n",
       "1           NaN        NaN  ...   15:50          6.9          320.0    15:12   \n",
       "2           NaN        NaN  ...   12:58          5.7          340.0    23:38   \n",
       "3           NaN        NaN  ...   13:38          8.6          320.0    12:52   \n",
       "4           NaN        NaN  ...   12:21          7.3          360.0    12:19   \n",
       "\n",
       "   평균습도(%rh)  최저습도(%rh)  일조합   일조율   일사합        예보  \n",
       "0       73.0       56.0  2.1  21.9  4.61      구름조금  \n",
       "1       76.9       62.0  3.6  37.5  4.50  구름많고 눈/비  \n",
       "2       80.6       61.0  2.2  22.7  4.85      구름많음  \n",
       "3       54.4       28.0  8.6  88.7  9.03      구름많음  \n",
       "4       39.4       22.0  7.9  81.4  8.22      구름많음  \n",
       "\n",
       "[5 rows x 23 columns]"
      ]
     },
     "execution_count": 32,
     "metadata": {},
     "output_type": "execute_result"
    }
   ],
   "source": [
    "df = pd.merge(observed, forecast, on='일시')\n",
    "df.head(5)"
   ]
  },
  {
   "cell_type": "code",
   "execution_count": 33,
   "id": "071305ce",
   "metadata": {},
   "outputs": [],
   "source": [
    "df.to_csv(\"df.csv\", encoding='cp949')"
   ]
  },
  {
   "cell_type": "code",
   "execution_count": 34,
   "id": "f93ec3b5",
   "metadata": {},
   "outputs": [],
   "source": [
    "df = pd.read_csv(\"df.csv\", encoding='cp949')\n",
    "df = df.drop([df.columns[0]], axis=1) # 저장하면서 index열이 생김. 이를 지우기 위함."
   ]
  },
  {
   "cell_type": "markdown",
   "id": "f605e995",
   "metadata": {},
   "source": [
    "### 같은 과정을 거쳐 전처리된 다른 도시의 기상 데이터 병합"
   ]
  },
  {
   "cell_type": "code",
   "execution_count": 35,
   "id": "aedd5f80",
   "metadata": {},
   "outputs": [],
   "source": [
    "bs = pd.read_csv(\"부산.csv\", encoding='cp949')\n",
    "bs = bs.drop([bs.columns[0]], axis=1)\n",
    "df = pd.concat([df, bs])\n",
    "df = df.sort_values('일시')"
   ]
  },
  {
   "cell_type": "code",
   "execution_count": 36,
   "id": "ecebdd3d",
   "metadata": {},
   "outputs": [],
   "source": [
    "jj = pd.read_csv(\"제주.csv\", encoding='cp949')\n",
    "jj = jj.drop([jj.columns[0]], axis=1)\n",
    "df = pd.concat([df, jj])\n",
    "df = df.sort_values('일시')"
   ]
  },
  {
   "cell_type": "code",
   "execution_count": 37,
   "id": "93efc037",
   "metadata": {},
   "outputs": [],
   "source": [
    "gj = pd.read_csv(\"광주.csv\", encoding='cp949')\n",
    "gj = gj.drop([gj.columns[0]], axis=1)\n",
    "df = pd.concat([df, gj])\n",
    "df = df.sort_values('일시')"
   ]
  },
  {
   "cell_type": "code",
   "execution_count": 38,
   "id": "2ae3d3d7",
   "metadata": {},
   "outputs": [],
   "source": [
    "cj = pd.read_csv(\"충주.csv\", encoding='cp949')\n",
    "cj = cj.drop([cj.columns[0]], axis=1)\n",
    "df = pd.concat([df, cj])\n",
    "df = df.sort_values('일시')"
   ]
  },
  {
   "cell_type": "code",
   "execution_count": 39,
   "id": "85cd50be",
   "metadata": {},
   "outputs": [],
   "source": [
    "ad = pd.read_csv(\"안동.csv\", encoding='cp949')\n",
    "ad = ad.drop([ad.columns[0]], axis=1)\n",
    "df = pd.concat([df, ad])\n",
    "df = df.sort_values('일시')"
   ]
  },
  {
   "cell_type": "code",
   "execution_count": 40,
   "id": "306c45ba",
   "metadata": {},
   "outputs": [],
   "source": [
    "jj = pd.read_csv(\"전주.csv\", encoding='cp949')\n",
    "jj = jj.drop([jj.columns[0]], axis=1)\n",
    "df = pd.concat([df, jj])\n",
    "df = df.sort_values('일시')"
   ]
  },
  {
   "cell_type": "code",
   "execution_count": 41,
   "id": "c840124f",
   "metadata": {},
   "outputs": [],
   "source": [
    "#dj = pd.read_csv(\"대전.csv\", encoding='cp949')\n",
    "#dj = dj.drop([dj.columns[0]], axis=1)\n",
    "#dj = pd.concat([df, dj])\n",
    "#dj = dj.sort_values('일시')\n",
    "df.to_csv(\"df.csv\", encoding='cp949')"
   ]
  },
  {
   "cell_type": "code",
   "execution_count": 42,
   "id": "02a92b60",
   "metadata": {},
   "outputs": [],
   "source": [
    "df = pd.read_csv(\"df.csv\", encoding='cp949')\n",
    "df = df.drop([df.columns[0]], axis=1) # 저장하면서 index열이 생김. 이를 지우기 위함."
   ]
  },
  {
   "cell_type": "markdown",
   "id": "e3362fef",
   "metadata": {},
   "source": [
    "### Null 처리 및 열 제거\n",
    "Null이 대부분인 열 제거 및\n",
    "\n",
    "분류분석만 진행할 예정이므로 시계열 및 방향 데이터 제거"
   ]
  },
  {
   "cell_type": "code",
   "execution_count": 43,
   "id": "01596864",
   "metadata": {},
   "outputs": [
    {
     "data": {
      "text/plain": [
       "15106"
      ]
     },
     "execution_count": 43,
     "metadata": {},
     "output_type": "execute_result"
    }
   ],
   "source": [
    "len(df)"
   ]
  },
  {
   "cell_type": "code",
   "execution_count": 44,
   "id": "853639bf",
   "metadata": {
    "scrolled": true
   },
   "outputs": [
    {
     "data": {
      "text/html": [
       "<div>\n",
       "<style scoped>\n",
       "    .dataframe tbody tr th:only-of-type {\n",
       "        vertical-align: middle;\n",
       "    }\n",
       "\n",
       "    .dataframe tbody tr th {\n",
       "        vertical-align: top;\n",
       "    }\n",
       "\n",
       "    .dataframe thead th {\n",
       "        text-align: right;\n",
       "    }\n",
       "</style>\n",
       "<table border=\"1\" class=\"dataframe\">\n",
       "  <thead>\n",
       "    <tr style=\"text-align: right;\">\n",
       "      <th></th>\n",
       "      <th>평균기온(℃)</th>\n",
       "      <th>최고기온(℃)</th>\n",
       "      <th>최저기온(℃)</th>\n",
       "      <th>일교차</th>\n",
       "      <th>강수량(mm)</th>\n",
       "      <th>평균풍속(m/s)</th>\n",
       "      <th>최대풍속(m/s)</th>\n",
       "      <th>최대순간풍속(m/s)</th>\n",
       "      <th>평균습도(%rh)</th>\n",
       "      <th>최저습도(%rh)</th>\n",
       "      <th>일조합</th>\n",
       "      <th>일조율</th>\n",
       "      <th>일사합</th>\n",
       "      <th>예보</th>\n",
       "    </tr>\n",
       "  </thead>\n",
       "  <tbody>\n",
       "    <tr>\n",
       "      <th>0</th>\n",
       "      <td>1.2</td>\n",
       "      <td>4.0</td>\n",
       "      <td>-3.3</td>\n",
       "      <td>7.3</td>\n",
       "      <td>NaN</td>\n",
       "      <td>1.6</td>\n",
       "      <td>3.5</td>\n",
       "      <td>5.6</td>\n",
       "      <td>73.0</td>\n",
       "      <td>56.0</td>\n",
       "      <td>2.1</td>\n",
       "      <td>21.9</td>\n",
       "      <td>4.61</td>\n",
       "      <td>구름조금</td>\n",
       "    </tr>\n",
       "    <tr>\n",
       "      <th>1</th>\n",
       "      <td>-1.0</td>\n",
       "      <td>4.1</td>\n",
       "      <td>-5.9</td>\n",
       "      <td>10.0</td>\n",
       "      <td>NaN</td>\n",
       "      <td>0.3</td>\n",
       "      <td>1.6</td>\n",
       "      <td>3.2</td>\n",
       "      <td>79.4</td>\n",
       "      <td>53.0</td>\n",
       "      <td>3.1</td>\n",
       "      <td>32.0</td>\n",
       "      <td>NaN</td>\n",
       "      <td>구름조금</td>\n",
       "    </tr>\n",
       "    <tr>\n",
       "      <th>2</th>\n",
       "      <td>5.3</td>\n",
       "      <td>10.9</td>\n",
       "      <td>1.1</td>\n",
       "      <td>9.8</td>\n",
       "      <td>NaN</td>\n",
       "      <td>4.3</td>\n",
       "      <td>7.4</td>\n",
       "      <td>11.4</td>\n",
       "      <td>52.1</td>\n",
       "      <td>33.0</td>\n",
       "      <td>9.3</td>\n",
       "      <td>94.9</td>\n",
       "      <td>11.44</td>\n",
       "      <td>구름조금</td>\n",
       "    </tr>\n",
       "    <tr>\n",
       "      <th>3</th>\n",
       "      <td>2.8</td>\n",
       "      <td>7.7</td>\n",
       "      <td>-2.0</td>\n",
       "      <td>9.7</td>\n",
       "      <td>NaN</td>\n",
       "      <td>1.5</td>\n",
       "      <td>2.7</td>\n",
       "      <td>4.2</td>\n",
       "      <td>74.4</td>\n",
       "      <td>52.0</td>\n",
       "      <td>4.3</td>\n",
       "      <td>43.9</td>\n",
       "      <td>7.90</td>\n",
       "      <td>구름조금</td>\n",
       "    </tr>\n",
       "    <tr>\n",
       "      <th>4</th>\n",
       "      <td>8.2</td>\n",
       "      <td>10.8</td>\n",
       "      <td>5.2</td>\n",
       "      <td>5.6</td>\n",
       "      <td>NaN</td>\n",
       "      <td>2.2</td>\n",
       "      <td>3.7</td>\n",
       "      <td>5.6</td>\n",
       "      <td>60.1</td>\n",
       "      <td>54.0</td>\n",
       "      <td>0.5</td>\n",
       "      <td>5.0</td>\n",
       "      <td>5.92</td>\n",
       "      <td>구름조금</td>\n",
       "    </tr>\n",
       "  </tbody>\n",
       "</table>\n",
       "</div>"
      ],
      "text/plain": [
       "   평균기온(℃)  최고기온(℃)  최저기온(℃)   일교차  강수량(mm)  평균풍속(m/s)  최대풍속(m/s)  \\\n",
       "0      1.2      4.0     -3.3   7.3      NaN        1.6        3.5   \n",
       "1     -1.0      4.1     -5.9  10.0      NaN        0.3        1.6   \n",
       "2      5.3     10.9      1.1   9.8      NaN        4.3        7.4   \n",
       "3      2.8      7.7     -2.0   9.7      NaN        1.5        2.7   \n",
       "4      8.2     10.8      5.2   5.6      NaN        2.2        3.7   \n",
       "\n",
       "   최대순간풍속(m/s)  평균습도(%rh)  최저습도(%rh)  일조합   일조율    일사합    예보  \n",
       "0          5.6       73.0       56.0  2.1  21.9   4.61  구름조금  \n",
       "1          3.2       79.4       53.0  3.1  32.0    NaN  구름조금  \n",
       "2         11.4       52.1       33.0  9.3  94.9  11.44  구름조금  \n",
       "3          4.2       74.4       52.0  4.3  43.9   7.90  구름조금  \n",
       "4          5.6       60.1       54.0  0.5   5.0   5.92  구름조금  "
      ]
     },
     "execution_count": 44,
     "metadata": {},
     "output_type": "execute_result"
    }
   ],
   "source": [
    "df.drop(['일시', '최대풍속풍향(deg)', '최대순간풍속풍향(deg)', '최고기온시각', \n",
    "         '최저기온시각', '최대풍속시각', '최대순간풍속시각', '1시간최다강수량(mm)', \n",
    "         '1시간최다강수량시각'], axis=1, inplace=True)\n",
    "df.head(5)"
   ]
  },
  {
   "cell_type": "code",
   "execution_count": 45,
   "id": "8eefc49b",
   "metadata": {
    "scrolled": true
   },
   "outputs": [
    {
     "data": {
      "text/plain": [
       "<AxesSubplot:>"
      ]
     },
     "execution_count": 45,
     "metadata": {},
     "output_type": "execute_result"
    },
    {
     "data": {
      "image/png": "[encoded data removed]",
      "text/plain": [
       "<Figure size 1800x720 with 2 Axes>"
      ]
     },
     "metadata": {
      "needs_background": "light"
     },
     "output_type": "display_data"
    }
   ],
   "source": [
    "import missingno as msno\n",
    "msno.matrix(df)"
   ]
  },
  {
   "cell_type": "code",
   "execution_count": 46,
   "id": "796959f7",
   "metadata": {},
   "outputs": [
    {
     "data": {
      "text/plain": [
       "15055"
      ]
     },
     "execution_count": 46,
     "metadata": {},
     "output_type": "execute_result"
    }
   ],
   "source": [
    "df['강수량(mm)'].fillna(0, inplace=True)\n",
    "df['일사합'].fillna(0, inplace=True)\n",
    "df.dropna(inplace=True)\n",
    "len(df)"
   ]
  },
  {
   "cell_type": "code",
   "execution_count": 47,
   "id": "de397b3a",
   "metadata": {},
   "outputs": [],
   "source": [
    "df = df.reset_index(drop=True)"
   ]
  },
  {
   "cell_type": "code",
   "execution_count": 48,
   "id": "680922fa",
   "metadata": {},
   "outputs": [
    {
     "data": {
      "text/plain": [
       "<AxesSubplot:>"
      ]
     },
     "execution_count": 48,
     "metadata": {},
     "output_type": "execute_result"
    },
    {
     "data": {
      "image/png": "[encoded data removed]",
      "text/plain": [
       "<Figure size 1800x720 with 2 Axes>"
      ]
     },
     "metadata": {
      "needs_background": "light"
     },
     "output_type": "display_data"
    }
   ],
   "source": [
    "import missingno as msno\n",
    "msno.matrix(df)"
   ]
  },
  {
   "cell_type": "markdown",
   "id": "c2e1a5b1",
   "metadata": {},
   "source": [
    "### 전처리 결과, 총 7개 도시 데이터 준비\n",
    "2016.01.01 ~ 2021.11.27"
   ]
  },
  {
   "cell_type": "code",
   "execution_count": 49,
   "id": "5c5c143b",
   "metadata": {},
   "outputs": [],
   "source": [
    "df.to_csv('df_preprocessed.csv', encoding='cp949')"
   ]
  },
  {
   "cell_type": "code",
   "execution_count": 50,
   "id": "36224596",
   "metadata": {},
   "outputs": [],
   "source": [
    "df = pd.read_csv('df_preprocessed.csv', encoding='cp949')\n",
    "df = df[df.columns[1:]]"
   ]
  },
  {
   "cell_type": "markdown",
   "id": "942b1e89",
   "metadata": {},
   "source": [
    "#### Target = '예보'로 설정"
   ]
  },
  {
   "cell_type": "code",
   "execution_count": 51,
   "id": "2ea6276e",
   "metadata": {},
   "outputs": [],
   "source": [
    "target = df['예보']\n",
    "data = df[df.columns[:-1]]"
   ]
  },
  {
   "cell_type": "code",
   "execution_count": 52,
   "id": "6404319c",
   "metadata": {},
   "outputs": [],
   "source": [
    "from sklearn.model_selection import train_test_split\n",
    "data_train, data_test, target_train, target_test = train_test_split(data, target, random_state = 0)"
   ]
  },
  {
   "cell_type": "code",
   "execution_count": 53,
   "id": "a579645a",
   "metadata": {},
   "outputs": [
    {
     "data": {
      "text/html": [
       "<div>\n",
       "<style scoped>\n",
       "    .dataframe tbody tr th:only-of-type {\n",
       "        vertical-align: middle;\n",
       "    }\n",
       "\n",
       "    .dataframe tbody tr th {\n",
       "        vertical-align: top;\n",
       "    }\n",
       "\n",
       "    .dataframe thead th {\n",
       "        text-align: right;\n",
       "    }\n",
       "</style>\n",
       "<table border=\"1\" class=\"dataframe\">\n",
       "  <thead>\n",
       "    <tr style=\"text-align: right;\">\n",
       "      <th></th>\n",
       "      <th>평균기온(℃)</th>\n",
       "      <th>최고기온(℃)</th>\n",
       "      <th>최저기온(℃)</th>\n",
       "      <th>일교차</th>\n",
       "      <th>강수량(mm)</th>\n",
       "      <th>평균풍속(m/s)</th>\n",
       "      <th>최대풍속(m/s)</th>\n",
       "      <th>최대순간풍속(m/s)</th>\n",
       "      <th>평균습도(%rh)</th>\n",
       "      <th>최저습도(%rh)</th>\n",
       "      <th>일조합</th>\n",
       "      <th>일조율</th>\n",
       "      <th>일사합</th>\n",
       "    </tr>\n",
       "  </thead>\n",
       "  <tbody>\n",
       "    <tr>\n",
       "      <th>0</th>\n",
       "      <td>1.2</td>\n",
       "      <td>4.0</td>\n",
       "      <td>-3.3</td>\n",
       "      <td>7.3</td>\n",
       "      <td>0.0</td>\n",
       "      <td>1.6</td>\n",
       "      <td>3.5</td>\n",
       "      <td>5.6</td>\n",
       "      <td>73.0</td>\n",
       "      <td>56.0</td>\n",
       "      <td>2.1</td>\n",
       "      <td>21.9</td>\n",
       "      <td>4.61</td>\n",
       "    </tr>\n",
       "    <tr>\n",
       "      <th>1</th>\n",
       "      <td>-1.0</td>\n",
       "      <td>4.1</td>\n",
       "      <td>-5.9</td>\n",
       "      <td>10.0</td>\n",
       "      <td>0.0</td>\n",
       "      <td>0.3</td>\n",
       "      <td>1.6</td>\n",
       "      <td>3.2</td>\n",
       "      <td>79.4</td>\n",
       "      <td>53.0</td>\n",
       "      <td>3.1</td>\n",
       "      <td>32.0</td>\n",
       "      <td>0.00</td>\n",
       "    </tr>\n",
       "    <tr>\n",
       "      <th>2</th>\n",
       "      <td>5.3</td>\n",
       "      <td>10.9</td>\n",
       "      <td>1.1</td>\n",
       "      <td>9.8</td>\n",
       "      <td>0.0</td>\n",
       "      <td>4.3</td>\n",
       "      <td>7.4</td>\n",
       "      <td>11.4</td>\n",
       "      <td>52.1</td>\n",
       "      <td>33.0</td>\n",
       "      <td>9.3</td>\n",
       "      <td>94.9</td>\n",
       "      <td>11.44</td>\n",
       "    </tr>\n",
       "    <tr>\n",
       "      <th>3</th>\n",
       "      <td>2.8</td>\n",
       "      <td>7.7</td>\n",
       "      <td>-2.0</td>\n",
       "      <td>9.7</td>\n",
       "      <td>0.0</td>\n",
       "      <td>1.5</td>\n",
       "      <td>2.7</td>\n",
       "      <td>4.2</td>\n",
       "      <td>74.4</td>\n",
       "      <td>52.0</td>\n",
       "      <td>4.3</td>\n",
       "      <td>43.9</td>\n",
       "      <td>7.90</td>\n",
       "    </tr>\n",
       "    <tr>\n",
       "      <th>4</th>\n",
       "      <td>8.2</td>\n",
       "      <td>10.8</td>\n",
       "      <td>5.2</td>\n",
       "      <td>5.6</td>\n",
       "      <td>0.0</td>\n",
       "      <td>2.2</td>\n",
       "      <td>3.7</td>\n",
       "      <td>5.6</td>\n",
       "      <td>60.1</td>\n",
       "      <td>54.0</td>\n",
       "      <td>0.5</td>\n",
       "      <td>5.0</td>\n",
       "      <td>5.92</td>\n",
       "    </tr>\n",
       "  </tbody>\n",
       "</table>\n",
       "</div>"
      ],
      "text/plain": [
       "   평균기온(℃)  최고기온(℃)  최저기온(℃)   일교차  강수량(mm)  평균풍속(m/s)  최대풍속(m/s)  \\\n",
       "0      1.2      4.0     -3.3   7.3      0.0        1.6        3.5   \n",
       "1     -1.0      4.1     -5.9  10.0      0.0        0.3        1.6   \n",
       "2      5.3     10.9      1.1   9.8      0.0        4.3        7.4   \n",
       "3      2.8      7.7     -2.0   9.7      0.0        1.5        2.7   \n",
       "4      8.2     10.8      5.2   5.6      0.0        2.2        3.7   \n",
       "\n",
       "   최대순간풍속(m/s)  평균습도(%rh)  최저습도(%rh)  일조합   일조율    일사합  \n",
       "0          5.6       73.0       56.0  2.1  21.9   4.61  \n",
       "1          3.2       79.4       53.0  3.1  32.0   0.00  \n",
       "2         11.4       52.1       33.0  9.3  94.9  11.44  \n",
       "3          4.2       74.4       52.0  4.3  43.9   7.90  \n",
       "4          5.6       60.1       54.0  0.5   5.0   5.92  "
      ]
     },
     "execution_count": 53,
     "metadata": {},
     "output_type": "execute_result"
    }
   ],
   "source": [
    "data.head(5)"
   ]
  },
  {
   "cell_type": "markdown",
   "id": "2c831a7b",
   "metadata": {},
   "source": [
    "### DecisionTreeClassifier"
   ]
  },
  {
   "cell_type": "code",
   "execution_count": 54,
   "id": "43f827b7",
   "metadata": {
    "scrolled": true
   },
   "outputs": [
    {
     "data": {
      "image/png": "[encoded data removed]",
      "text/plain": [
       "<Figure size 1080x432 with 1 Axes>"
      ]
     },
     "metadata": {
      "needs_background": "light"
     },
     "output_type": "display_data"
    },
    {
     "name": "stdout",
     "output_type": "stream",
     "text": [
      "best testF1 : 0.5658873538788523\n"
     ]
    }
   ],
   "source": [
    "import matplotlib.pyplot as plt\n",
    "from sklearn.tree import DecisionTreeClassifier\n",
    "from sklearn.neighbors import KNeighborsClassifier\n",
    "from sklearn.metrics import f1_score\n",
    "\n",
    "numNeighbors = list(range(1, 30))\n",
    "trainF1 = []\n",
    "testF1 = []\n",
    "for k in numNeighbors:\n",
    "    clf = DecisionTreeClassifier(max_depth=k)\n",
    "    clf.fit(data_train, target_train)\n",
    "    Y_predTrain = clf.predict(data_train)\n",
    "    Y_predTest = clf.predict(data_test)\n",
    "    trainF1.append(f1_score(target_train, Y_predTrain, average='micro'))\n",
    "    testF1.append(f1_score(target_test, Y_predTest, average='micro'))\n",
    "plt.figure(figsize=(15, 6))\n",
    "plt.plot(numNeighbors, trainF1, 'ro-', numNeighbors, testF1, 'bv--')\n",
    "plt.legend(['Train F1', 'Test F1'])\n",
    "plt.xlabel('Number of Max_depth')\n",
    "plt.ylabel('F1 score')\n",
    "plt.show()\n",
    "print(\"best testF1 :\", max(testF1))"
   ]
  },
  {
   "cell_type": "markdown",
   "id": "d4862c69",
   "metadata": {},
   "source": [
    "## 이상치 제거"
   ]
  },
  {
   "cell_type": "code",
   "execution_count": 55,
   "id": "892f9dad",
   "metadata": {},
   "outputs": [],
   "source": [
    "df = pd.read_csv('df_preprocessed.csv', encoding='cp949')\n",
    "df = df[df.columns[1:]]"
   ]
  },
  {
   "cell_type": "code",
   "execution_count": 56,
   "id": "58363248",
   "metadata": {},
   "outputs": [],
   "source": [
    "df_p = df.copy()\n",
    "\n",
    "for w in df['예보'].unique():\n",
    "    try:\n",
    "        quartile_1 = df_p[df_p['예보']==w].quantile(0.25)\n",
    "        quartile_3 = df_p[df_p['예보']==w].quantile(0.75)\n",
    "        IQR = quartile_3 - quartile_1\n",
    "        condition = (df_p[df_p['예보']==w] < (quartile_1 - 1.5 * IQR)) | (df_p[df_p['예보']==w] > (quartile_3 + 1.5 * IQR))\n",
    "        condition = condition.any(axis=1)\n",
    "        df_p = df_p.drop(df_p[df_p['예보']==w][condition].index, axis=0)\n",
    "    except:\n",
    "        continue"
   ]
  },
  {
   "cell_type": "code",
   "execution_count": 57,
   "id": "52760f90",
   "metadata": {},
   "outputs": [],
   "source": [
    "df_p.to_csv('df_preprocessed2.csv', encoding='cp949')"
   ]
  },
  {
   "cell_type": "code",
   "execution_count": 58,
   "id": "643ad337",
   "metadata": {},
   "outputs": [],
   "source": [
    "df = pd.read_csv('df_preprocessed2.csv', encoding='cp949')\n",
    "df = df[df.columns[1:]]"
   ]
  },
  {
   "cell_type": "code",
   "execution_count": 59,
   "id": "098adc58",
   "metadata": {},
   "outputs": [],
   "source": [
    "target = df['예보']\n",
    "data = df[df.columns[:-1]]\n",
    "from sklearn.model_selection import train_test_split\n",
    "data_train, data_test, target_train, target_test = train_test_split(data, target, random_state = 0)"
   ]
  },
  {
   "cell_type": "markdown",
   "id": "3aad0e95",
   "metadata": {},
   "source": [
    "## DecisionTreeClassifier"
   ]
  },
  {
   "cell_type": "code",
   "execution_count": 60,
   "id": "101003e9",
   "metadata": {
    "scrolled": true
   },
   "outputs": [
    {
     "data": {
      "image/png": "[encoded data removed]",
      "text/plain": [
       "<Figure size 1080x432 with 1 Axes>"
      ]
     },
     "metadata": {
      "needs_background": "light"
     },
     "output_type": "display_data"
    },
    {
     "name": "stdout",
     "output_type": "stream",
     "text": [
      "best testF1 : 0.6085133827797484\n"
     ]
    }
   ],
   "source": [
    "import matplotlib.pyplot as plt\n",
    "from sklearn.tree import DecisionTreeClassifier\n",
    "from sklearn.neighbors import KNeighborsClassifier\n",
    "from sklearn.metrics import f1_score\n",
    "\n",
    "numNeighbors = list(range(1, 30))\n",
    "trainF1 = []\n",
    "testF1 = []\n",
    "for k in numNeighbors:\n",
    "    clf = DecisionTreeClassifier(max_depth=k)\n",
    "    clf.fit(data_train, target_train)\n",
    "    Y_predTrain = clf.predict(data_train)\n",
    "    Y_predTest = clf.predict(data_test)\n",
    "    trainF1.append(f1_score(target_train, Y_predTrain, average='micro'))\n",
    "    testF1.append(f1_score(target_test, Y_predTest, average='micro'))\n",
    "plt.figure(figsize=(15, 6))\n",
    "plt.plot(numNeighbors, trainF1, 'ro-', numNeighbors, testF1, 'bv--')\n",
    "plt.legend(['Train F1', 'Test F1'])\n",
    "plt.xlabel('Number of Max_depth')\n",
    "plt.ylabel('F1 score')\n",
    "plt.show()\n",
    "print(\"best testF1 :\", max(testF1))"
   ]
  },
  {
   "cell_type": "markdown",
   "id": "54c585d8",
   "metadata": {},
   "source": [
    "### target 수정\n",
    "너무 세분화되어 혼란을 주는 target들을 수정\n",
    "\n",
    "ex) '구름많고 눈/비', '구름많고 비/눈' 과 같은 target을 '눈', '비'로 변경"
   ]
  },
  {
   "cell_type": "code",
   "execution_count": 61,
   "id": "a50f593a",
   "metadata": {},
   "outputs": [],
   "source": [
    "df = pd.read_csv('df_preprocessed2.csv', encoding='cp949')\n",
    "df = df[df.columns[1:]]"
   ]
  },
  {
   "cell_type": "code",
   "execution_count": 62,
   "id": "a8877bb5",
   "metadata": {
    "scrolled": false
   },
   "outputs": [
    {
     "data": {
      "text/plain": [
       "(array([1282., 5512.,  134.,  667.,  151., 2937.,  122.,  868.,  657.,\n",
       "          71.]),\n",
       " array([ 0.,  1.,  2.,  3.,  4.,  5.,  6.,  7.,  8.,  9., 10.]),\n",
       " <BarContainer object of 10 artists>)"
      ]
     },
     "execution_count": 62,
     "metadata": {},
     "output_type": "execute_result"
    },
    {
     "data": {
      "image/png": "[encoded data removed]",
      "text/plain": [
       "<Figure size 1080x432 with 1 Axes>"
      ]
     },
     "metadata": {
      "needs_background": "light"
     },
     "output_type": "display_data"
    }
   ],
   "source": [
    "plt.figure(figsize=(15, 6))\n",
    "plt.hist(df['예보'])"
   ]
  },
  {
   "cell_type": "code",
   "execution_count": 63,
   "id": "26caf2f5",
   "metadata": {},
   "outputs": [],
   "source": [
    "df.replace({'흐림':'구름', '구름조금':'구름', '구름많음':'구름', '구름':'구름', '구름많고 눈/비':'눈', \n",
    "            '구름많고 비':'비', '구름많고 비/눈':'비', '구름많고 눈':'눈', '흐리고 비':'비', \n",
    "            '흐리고 눈/비':'눈', '흐리고 비/눈':'비', '흐리고 눈':'눈', '구름많고 소나기':'비'}, inplace=True)"
   ]
  },
  {
   "cell_type": "code",
   "execution_count": 64,
   "id": "85b2a6a3",
   "metadata": {
    "scrolled": true
   },
   "outputs": [
    {
     "data": {
      "text/plain": [
       "(array([7662.,    0.,    0.,  353.,    0.,    0., 3729.,    0.,    0.,\n",
       "         657.]),\n",
       " array([0. , 0.3, 0.6, 0.9, 1.2, 1.5, 1.8, 2.1, 2.4, 2.7, 3. ]),\n",
       " <BarContainer object of 10 artists>)"
      ]
     },
     "execution_count": 64,
     "metadata": {},
     "output_type": "execute_result"
    },
    {
     "data": {
      "image/png": "[encoded data removed]",
      "text/plain": [
       "<Figure size 432x288 with 1 Axes>"
      ]
     },
     "metadata": {
      "needs_background": "light"
     },
     "output_type": "display_data"
    }
   ],
   "source": [
    "plt.hist(df['예보'])"
   ]
  },
  {
   "cell_type": "code",
   "execution_count": 65,
   "id": "09370093",
   "metadata": {},
   "outputs": [],
   "source": [
    "target = df['예보']\n",
    "data = df[df.columns[:-1]]\n",
    "\n",
    "from imblearn.over_sampling import RandomOverSampler\n",
    "\n",
    "ros = RandomOverSampler()\n",
    "data, target = ros.fit_resample(data, target)\n",
    "data = pd.DataFrame(data, columns=data.columns)\n",
    "\n",
    "from sklearn.model_selection import train_test_split\n",
    "data_train, data_test, target_train, target_test = train_test_split(data, target)"
   ]
  },
  {
   "cell_type": "code",
   "execution_count": 66,
   "id": "6afc306e",
   "metadata": {},
   "outputs": [
    {
     "data": {
      "text/plain": [
       "(array([7662.,    0.,    0., 7662.,    0.,    0., 7662.,    0.,    0.,\n",
       "        7662.]),\n",
       " array([0. , 0.3, 0.6, 0.9, 1.2, 1.5, 1.8, 2.1, 2.4, 2.7, 3. ]),\n",
       " <BarContainer object of 10 artists>)"
      ]
     },
     "execution_count": 66,
     "metadata": {},
     "output_type": "execute_result"
    },
    {
     "data": {
      "image/png": "[encoded data removed]",
      "text/plain": [
       "<Figure size 432x288 with 1 Axes>"
      ]
     },
     "metadata": {
      "needs_background": "light"
     },
     "output_type": "display_data"
    }
   ],
   "source": [
    "plt.hist(target)"
   ]
  },
  {
   "cell_type": "markdown",
   "id": "3ff7f059",
   "metadata": {},
   "source": [
    "## DecisionTreeClassifier"
   ]
  },
  {
   "cell_type": "code",
   "execution_count": 67,
   "id": "630973e8",
   "metadata": {
    "scrolled": true
   },
   "outputs": [
    {
     "data": {
      "image/png": "[encoded data removed]",
      "text/plain": [
       "<Figure size 1080x432 with 1 Axes>"
      ]
     },
     "metadata": {
      "needs_background": "light"
     },
     "output_type": "display_data"
    },
    {
     "name": "stdout",
     "output_type": "stream",
     "text": [
      "best testF1 : 0.9239102062124772\n"
     ]
    }
   ],
   "source": [
    "import matplotlib.pyplot as plt\n",
    "from sklearn.tree import DecisionTreeClassifier\n",
    "from sklearn.neighbors import KNeighborsClassifier\n",
    "from sklearn.metrics import f1_score\n",
    "\n",
    "numNeighbors = list(range(1, 30))\n",
    "trainF1 = []\n",
    "testF1 = []\n",
    "for k in numNeighbors:\n",
    "    clf = DecisionTreeClassifier(max_depth=k)\n",
    "    clf.fit(data_train, target_train)\n",
    "    Y_predTrain = clf.predict(data_train)\n",
    "    Y_predTest = clf.predict(data_test)\n",
    "    trainF1.append(f1_score(target_train, Y_predTrain, average='micro'))\n",
    "    testF1.append(f1_score(target_test, Y_predTest, average='micro'))\n",
    "plt.figure(figsize=(15, 6))\n",
    "plt.plot(numNeighbors, trainF1, 'ro-', numNeighbors, testF1, 'bv--')\n",
    "plt.legend(['Train F1', 'Test F1'])\n",
    "plt.xlabel('Number of Max_depth')\n",
    "plt.ylabel('F1 score')\n",
    "plt.show()\n",
    "print(\"best testF1 :\", max(testF1))"
   ]
  },
  {
   "cell_type": "markdown",
   "id": "fbba4fd4",
   "metadata": {},
   "source": [
    "### KNN"
   ]
  },
  {
   "cell_type": "code",
   "execution_count": 68,
   "id": "06963709",
   "metadata": {},
   "outputs": [
    {
     "data": {
      "image/png": "[encoded data removed]",
      "text/plain": [
       "<Figure size 1080x432 with 1 Axes>"
      ]
     },
     "metadata": {
      "needs_background": "light"
     },
     "output_type": "display_data"
    },
    {
     "name": "stdout",
     "output_type": "stream",
     "text": [
      "best testF1 : 0.911641868963717\n"
     ]
    }
   ],
   "source": [
    "import matplotlib.pyplot as plt\n",
    "\n",
    "numNeighbors = list(range(1, 30))\n",
    "trainF1 = []\n",
    "testF1 = []\n",
    "for k in numNeighbors:\n",
    "    clf = KNeighborsClassifier(n_neighbors=k, metric='minkowski', p=2)\n",
    "    clf.fit(data_train, target_train)\n",
    "    Y_predTrain = clf.predict(data_train)\n",
    "    Y_predTest = clf.predict(data_test)\n",
    "    trainF1.append(f1_score(target_train, Y_predTrain, average='micro'))\n",
    "    testF1.append(f1_score(target_test, Y_predTest, average='micro'))\n",
    "plt.figure(figsize=(15, 6))\n",
    "plt.plot(numNeighbors, trainF1, 'ro-', numNeighbors, testF1, 'bv--')\n",
    "plt.legend(['Train F1', 'Test F1'])\n",
    "plt.xlabel('Number of neighbors')\n",
    "plt.ylabel('F1 score')\n",
    "plt.show()\n",
    "print(\"best testF1 :\", max(testF1))"
   ]
  },
  {
   "cell_type": "markdown",
   "id": "a89f2977",
   "metadata": {},
   "source": [
    "## SVC(rbf)\n",
    "SVM의 분류모델은 SVC모델 중 kernel=rbf를 이용"
   ]
  },
  {
   "cell_type": "markdown",
   "id": "6b2f005e",
   "metadata": {},
   "source": [
    "#### Pipeline"
   ]
  },
  {
   "cell_type": "code",
   "execution_count": 69,
   "id": "629f1516",
   "metadata": {},
   "outputs": [],
   "source": [
    "from sklearn.preprocessing import LabelEncoder, StandardScaler\n",
    "from sklearn.compose import ColumnTransformer\n",
    "from imblearn.pipeline import Pipeline\n",
    "import sklearn.svm as svm\n",
    "\n",
    "preprocessor = ColumnTransformer(\n",
    "    transformers=[\n",
    "        ('scaler', StandardScaler(), ['평균기온(℃)', '최고기온(℃)', '최저기온(℃)', '일교차', '강수량(mm)', '평균풍속(m/s)',\n",
    "       '최대풍속(m/s)', '최대순간풍속(m/s)', '평균습도(%rh)',\n",
    "       '최저습도(%rh)', '일조합', '일조율', '일사합'])])\n",
    "\n",
    "estimator = svm.SVC()\n",
    "pipeline = Pipeline([('preprocessing', preprocessor), ('classification', estimator)])"
   ]
  },
  {
   "cell_type": "code",
   "execution_count": 70,
   "id": "ac249dda",
   "metadata": {
    "scrolled": true
   },
   "outputs": [
    {
     "data": {
      "text/plain": [
       "GridSearchCV(cv=StratifiedKFold(n_splits=10, random_state=42, shuffle=True),\n",
       "             estimator=Pipeline(steps=[('preprocessing',\n",
       "                                        ColumnTransformer(transformers=[('scaler',\n",
       "                                                                         StandardScaler(),\n",
       "                                                                         ['평균기온(℃)',\n",
       "                                                                          '최고기온(℃)',\n",
       "                                                                          '최저기온(℃)',\n",
       "                                                                          '일교차',\n",
       "                                                                          '강수량(mm)',\n",
       "                                                                          '평균풍속(m/s)',\n",
       "                                                                          '최대풍속(m/s)',\n",
       "                                                                          '최대순간풍속(m/s)',\n",
       "                                                                          '평균습도(%rh)',\n",
       "                                                                          '최저습도(%rh)',\n",
       "                                                                          '일조합',\n",
       "                                                                          '일조율',\n",
       "                                                                          '일사합'])])),\n",
       "                                       ('classification', SVC())]),\n",
       "             n_jobs=4,\n",
       "             param_grid={'classification__C': [1, 10, 20, 40, 100, 200],\n",
       "                         'classification__gamma': [0.01, 0.1],\n",
       "                         'classification__kernel': ['rbf']})"
      ]
     },
     "execution_count": 70,
     "metadata": {},
     "output_type": "execute_result"
    }
   ],
   "source": [
    "from sklearn.model_selection import StratifiedKFold\n",
    "from sklearn.model_selection import GridSearchCV\n",
    "\n",
    "stratified_10_fold_cv = StratifiedKFold(n_splits=10, shuffle=True, random_state=42)\n",
    "\n",
    "params = {\n",
    "    'classification__kernel': ['rbf'],\n",
    "    'classification__C': [1, 10, 20, 40, 100, 200],\n",
    "    'classification__gamma': [0.01, 0.1]}\n",
    "\n",
    "grid_search_estimator = GridSearchCV(pipeline, param_grid=params, cv=stratified_10_fold_cv, refit=True, n_jobs=4)\n",
    "grid_search_estimator.fit(data_train, target_train)"
   ]
  },
  {
   "cell_type": "code",
   "execution_count": 71,
   "id": "08d4f23e",
   "metadata": {
    "scrolled": true
   },
   "outputs": [],
   "source": [
    "from sklearn.model_selection import cross_val_predict\n",
    "\n",
    "prediction = cross_val_predict(grid_search_estimator.best_estimator_, data_test, target_test, cv=stratified_10_fold_cv)"
   ]
  },
  {
   "cell_type": "code",
   "execution_count": 72,
   "id": "cda0d55e",
   "metadata": {
    "scrolled": false
   },
   "outputs": [
    {
     "name": "stdout",
     "output_type": "stream",
     "text": [
      "svm best f1 score : 0.8253719655442443\n",
      "{'classification__C': 200, 'classification__gamma': 0.1, 'classification__kernel': 'rbf'}\n"
     ]
    }
   ],
   "source": [
    "f1 = f1_score(target_test, prediction, average='micro')\n",
    "print(\"svm best f1 score :\", f1.mean())\n",
    "print(grid_search_estimator.best_params_)"
   ]
  },
  {
   "cell_type": "markdown",
   "id": "6857ab37",
   "metadata": {},
   "source": [
    "## Ensemble"
   ]
  },
  {
   "cell_type": "code",
   "execution_count": 73,
   "id": "eec3a880",
   "metadata": {},
   "outputs": [],
   "source": [
    "from sklearn import ensemble\n",
    "\n",
    "trainAcc = []\n",
    "testAcc = []\n",
    "\n",
    "X_train, Y_train, X_test, Y_test = data_train, target_train, data_test, target_test"
   ]
  },
  {
   "cell_type": "markdown",
   "id": "b7e2b1c7",
   "metadata": {},
   "source": [
    "### RandomForest"
   ]
  },
  {
   "cell_type": "code",
   "execution_count": 74,
   "id": "ce04419e",
   "metadata": {},
   "outputs": [
    {
     "data": {
      "image/png": "[encoded data removed]",
      "text/plain": [
       "<Figure size 1080x432 with 1 Axes>"
      ]
     },
     "metadata": {
      "needs_background": "light"
     },
     "output_type": "display_data"
    }
   ],
   "source": [
    "numBaseClassifiers = [10, 20, 50, 100, 200, 300, 500]\n",
    "testF1 = []\n",
    "bestf1 = []\n",
    "\n",
    "for k in numBaseClassifiers:\n",
    "    clf = ensemble.RandomForestClassifier(n_estimators=k)\n",
    "    clf.fit(data_train, target_train)\n",
    "    #Y_predTrain = clf.predict(data_train)\n",
    "    Y_predTest = clf.predict(data_test)\n",
    "    testF1.append(f1_score(target_test, Y_predTest, average='micro'))\n",
    "\n",
    "plt.figure(figsize=(15, 6))\n",
    "plt.plot(numBaseClassifiers, testF1, 'bv--')\n",
    "plt.xlabel('RandomForest')\n",
    "plt.ylabel('F1 score')\n",
    "\n",
    "bestf1.append(max(testF1))"
   ]
  },
  {
   "cell_type": "markdown",
   "id": "93950de6",
   "metadata": {},
   "source": [
    "### Bagging"
   ]
  },
  {
   "cell_type": "code",
   "execution_count": 75,
   "id": "42dcee6a",
   "metadata": {
    "scrolled": false
   },
   "outputs": [
    {
     "data": {
      "image/png": "[encoded data removed]",
      "text/plain": [
       "<Figure size 1080x432 with 1 Axes>"
      ]
     },
     "metadata": {
      "needs_background": "light"
     },
     "output_type": "display_data"
    }
   ],
   "source": [
    "numBaseClassifiers = [100, 200, 300, 500]\n",
    "max_depths = [2, 3, 5, 10, 20]\n",
    "F1 = []\n",
    "\n",
    "plt.figure(figsize=(15, 6))\n",
    "for k in numBaseClassifiers:\n",
    "    for maxdepth in max_depths:\n",
    "        clf = ensemble.BaggingClassifier(DecisionTreeClassifier(max_depth=maxdepth), n_estimators=k)\n",
    "        clf.fit(data_train, target_train)\n",
    "        #Y_predTrain = clf.predict(data_train)\n",
    "        Y_predTest = clf.predict(data_test)\n",
    "        F1.append(f1_score(target_test, Y_predTest, average='micro'))\n",
    "    plt.plot(max_depths, F1)\n",
    "    testF1.append(max(F1))\n",
    "    F1 = []\n",
    "    \n",
    "plt.legend(numBaseClassifiers)\n",
    "plt.xlabel('max_depth')\n",
    "plt.ylabel('F1 score')\n",
    "\n",
    "bestf1.append(max(testF1))"
   ]
  },
  {
   "cell_type": "markdown",
   "id": "d5317f50",
   "metadata": {},
   "source": [
    "### Adaboost"
   ]
  },
  {
   "cell_type": "code",
   "execution_count": 76,
   "id": "a5b53c96",
   "metadata": {
    "scrolled": false
   },
   "outputs": [
    {
     "data": {
      "image/png": "[encoded data removed]",
      "text/plain": [
       "<Figure size 1080x432 with 1 Axes>"
      ]
     },
     "metadata": {
      "needs_background": "light"
     },
     "output_type": "display_data"
    }
   ],
   "source": [
    "numBaseClassifiers = [50, 100, 200, 300, 500]\n",
    "max_depths = [1, 2, 3, 5, 10, 20]\n",
    "F1 = []\n",
    "testF1 = []\n",
    "\n",
    "plt.figure(figsize=(15, 6))\n",
    "for k in numBaseClassifiers:\n",
    "    for maxdepth in max_depths:\n",
    "        clf = ensemble.AdaBoostClassifier(DecisionTreeClassifier(max_depth=maxdepth), n_estimators=k)\n",
    "        clf.fit(data_train, target_train)\n",
    "        #Y_predTrain = clf.predict(data_train)\n",
    "        Y_predTest = clf.predict(data_test)\n",
    "        F1.append(f1_score(target_test, Y_predTest, average='micro'))\n",
    "\n",
    "    plt.plot(max_depths, F1)\n",
    "    testF1.append(max(F1))\n",
    "    F1 = []\n",
    "\n",
    "plt.legend(numBaseClassifiers)\n",
    "plt.xlabel('max_depth')\n",
    "plt.ylabel('F1 score')\n",
    "\n",
    "bestf1.append(max(testF1))"
   ]
  },
  {
   "cell_type": "code",
   "execution_count": 77,
   "id": "8f02990c",
   "metadata": {
    "scrolled": true
   },
   "outputs": [
    {
     "data": {
      "image/png": "[encoded data removed]",
      "text/plain": [
       "<Figure size 720x360 with 1 Axes>"
      ]
     },
     "metadata": {
      "needs_background": "light"
     },
     "output_type": "display_data"
    }
   ],
   "source": [
    "methods = ['Random Forest', 'Bagging', 'AdaBoost']\n",
    "\n",
    "import matplotlib.pyplot as plt\n",
    "%matplotlib inline\n",
    "plt.figure(figsize=(10,5))\n",
    "plt.bar([1.5,2.5,3.5], bestf1)\n",
    "plt.xticks([1.5,2.5,3.5], labels=methods)\n",
    "plt.show()"
   ]
  },
  {
   "cell_type": "code",
   "execution_count": 78,
   "id": "5cac5f1c",
   "metadata": {},
   "outputs": [
    {
     "data": {
      "text/plain": [
       "[0.9600626468285043, 0.9600626468285043, 0.9668493865831377]"
      ]
     },
     "execution_count": 78,
     "metadata": {},
     "output_type": "execute_result"
    }
   ],
   "source": [
    "bestf1"
   ]
  },
  {
   "cell_type": "markdown",
   "id": "512f10df",
   "metadata": {},
   "source": [
    "### best model 성능 평가\n",
    "위에서 사용되지 않은 새로운 데이터인 '대전'을 이용"
   ]
  },
  {
   "cell_type": "code",
   "execution_count": 79,
   "id": "bb30e02b",
   "metadata": {},
   "outputs": [],
   "source": [
    "bs = pd.read_csv(\"dj_preprocessed2.csv\", encoding='cp949')\n",
    "bs = bs[bs.columns[1:]]\n",
    "bs.replace({'흐림':'구름', '구름조금':'구름', '구름많음':'구름', '구름':'구름', '구름많고 눈/비':'눈', \n",
    "            '구름많고 비':'비', '구름많고 비/눈':'비', '구름많고 눈':'눈', '흐리고 비':'비', \n",
    "            '흐리고 눈/비':'눈', '흐리고 비/눈':'비', '흐리고 눈':'눈', '구름많고 소나기':'비'}, inplace=True)\n",
    "bs_target = bs['예보']\n",
    "bs_data = bs[bs.columns[:-1]]"
   ]
  },
  {
   "cell_type": "code",
   "execution_count": 80,
   "id": "bab2ebaf",
   "metadata": {},
   "outputs": [
    {
     "data": {
      "text/plain": [
       "RandomForestClassifier(n_estimators=300)"
      ]
     },
     "execution_count": 80,
     "metadata": {},
     "output_type": "execute_result"
    }
   ],
   "source": [
    "from sklearn import ensemble\n",
    "\n",
    "clf = ensemble.RandomForestClassifier(n_estimators=300)\n",
    "clf.fit(data, target)"
   ]
  },
  {
   "cell_type": "code",
   "execution_count": 81,
   "id": "469b1527",
   "metadata": {},
   "outputs": [],
   "source": [
    "prediction = clf.predict(bs_data)"
   ]
  },
  {
   "cell_type": "code",
   "execution_count": 82,
   "id": "14dd59a3",
   "metadata": {},
   "outputs": [
    {
     "data": {
      "text/plain": [
       "0.8140540540540541"
      ]
     },
     "execution_count": 82,
     "metadata": {},
     "output_type": "execute_result"
    }
   ],
   "source": [
    "f1_score(bs_target, prediction, average='micro')"
   ]
  },
  {
   "cell_type": "code",
   "execution_count": 83,
   "id": "1af5f92a",
   "metadata": {
    "scrolled": false
   },
   "outputs": [
    {
     "data": {
      "image/png": "[encoded data removed]",
      "text/plain": [
       "<Figure size 432x288 with 2 Axes>"
      ]
     },
     "metadata": {
      "needs_background": "light"
     },
     "output_type": "display_data"
    }
   ],
   "source": [
    "import itertools\n",
    "from sklearn.metrics import confusion_matrix\n",
    "def plot_confusion_matrix(cm, classes,\n",
    "                          normalize=False,\n",
    "                          title='Confusion matrix',\n",
    "                          cmap=plt.cm.Blues):\n",
    "    \"\"\"\n",
    "    This function prints and plots the confusion matrix.\n",
    "    Normalization can be applied by setting `normalize=True`.\n",
    "    \"\"\"\n",
    "    if normalize:\n",
    "        cm = cm.astype('float') / cm.sum(axis=1)[:, np.newaxis]\n",
    "\n",
    "    plt.imshow(cm, interpolation='nearest', cmap=cmap)\n",
    "    plt.title(title)\n",
    "    plt.colorbar()\n",
    "    tick_marks = np.arange(len(classes))\n",
    "    plt.xticks(tick_marks, classes, rotation=45)\n",
    "    plt.yticks(tick_marks, classes)\n",
    "\n",
    "    fmt = '.2f' if normalize else 'd'\n",
    "    thresh = cm.max() / 2.\n",
    "    for i, j in itertools.product(range(cm.shape[0]), range(cm.shape[1])):\n",
    "        plt.text(j, i, format(cm[i, j], fmt),\n",
    "                 horizontalalignment=\"center\",\n",
    "                 color=\"white\" if cm[i, j] > thresh else \"black\")\n",
    "\n",
    "    plt.ylabel('True label')\n",
    "    plt.xlabel('Predicted label')\n",
    "    plt.tight_layout()\n",
    "\n",
    "cm = confusion_matrix(bs_target, prediction, labels=bs_target.unique().sort())\n",
    "plot_confusion_matrix(cm, classes=bs_target.unique(), title='AdaBoost Classifier')\n",
    "plt.show()"
   ]
  },
  {
   "cell_type": "code",
   "execution_count": 84,
   "id": "86151590",
   "metadata": {
    "scrolled": true
   },
   "outputs": [
    {
     "name": "stdout",
     "output_type": "stream",
     "text": [
      "              precision    recall  f1-score   support\n",
      "\n",
      "          구름       0.81      0.92      0.86       576\n",
      "           눈       0.54      0.35      0.42        20\n",
      "          맑음       0.75      0.07      0.12        44\n",
      "           비       0.83      0.75      0.79       285\n",
      "\n",
      "    accuracy                           0.81       925\n",
      "   macro avg       0.73      0.52      0.55       925\n",
      "weighted avg       0.81      0.81      0.80       925\n",
      "\n"
     ]
    }
   ],
   "source": [
    "from sklearn.metrics import classification_report\n",
    "\n",
    "print(classification_report(bs_target, prediction, target_names=bs_target.unique().sort()))"
   ]
  },
  {
   "cell_type": "code",
   "execution_count": null,
   "id": "1dd3260a",
   "metadata": {},
   "outputs": [],
   "source": []
  }
 ],
 "metadata": {
  "kernelspec": {
   "display_name": "Python 3 (ipykernel)",
   "language": "python",
   "name": "python3"
  },
  "language_info": {
   "codemirror_mode": {
    "name": "ipython",
    "version": 3
   },
   "file_extension": ".py",
   "mimetype": "text/x-python",
   "name": "python",
   "nbconvert_exporter": "python",
   "pygments_lexer": "ipython3",
   "version": "3.9.7"
  }
 },
 "nbformat": 4,
 "nbformat_minor": 5
}
